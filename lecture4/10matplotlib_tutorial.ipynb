{
 "cells": [
  {
   "cell_type": "markdown",
   "id": "0",
   "metadata": {
    "editable": true,
    "id": "d6a48233-0736-4791-ab09-b9e432700780",
    "slideshow": {
     "slide_type": ""
    },
    "tags": []
   },
   "source": [
    "# Matplotlib introduction\n",
    "\n"
   ]
  },
  {
   "cell_type": "markdown",
   "id": "1",
   "metadata": {
    "id": "2f8f08d0-ee5d-4c3f-af38-60f72d0cc790"
   },
   "source": [
    "**Attribution**:\n",
    "\n",
    "-   By Jonas Eschle and Rafael Silva Coutinho, based on the [tutorial](https://colab.research.google.com/github/ffund/ml-notebooks/blob/master/notebooks/1-python-numpy-tutorial.ipynb) by *Fraida Fund*"
   ]
  },
  {
   "cell_type": "markdown",
   "id": "2",
   "metadata": {
    "id": "b8c81981-ec2e-4984-bc03-c0d6ebd5b1b0"
   },
   "source": [
    "## Introduction"
   ]
  },
  {
   "cell_type": "markdown",
   "id": "3",
   "metadata": {
    "id": "240d95fd-7840-40e5-9d88-ad34c882f072"
   },
   "source": [
    "Python is a great general-purpose programming language on its own, but with the help of a few popular *libraries* (`numpy`, `pandas`, `matplotlib`) it becomes a powerful environment for scientific computing."
   ]
  },
  {
   "cell_type": "markdown",
   "id": "4",
   "metadata": {
    "id": "7e38a0f8-f6f9-49bb-aa05-5667ad3b3a12"
   },
   "source": [
    "In this notebook, we will cover:\n",
    "\n",
    "-   `matplotlib`: Basic Visualization, Subplots, Image Visualization\n",
    "\n",
    "*Note that variables in these tutorials are often just a single letter, as the code written is about a line or two. For anything more general, proper names are used and should always be used*"
   ]
  },
  {
   "cell_type": "markdown",
   "id": "5",
   "metadata": {
    "id": "8c743bf9-95e7-4b21-8ef6-1d916db84104"
   },
   "source": [
    "## Matplotlib"
   ]
  },
  {
   "cell_type": "markdown",
   "id": "6",
   "metadata": {
    "id": "8630b702-f57d-422f-8c40-7912f1465851"
   },
   "source": [
    "Matplotlib is a plotting library. In this section we give a brief introduction to the `matplotlib.pyplot` module, which provides a plotting system similar to that of MATLAB.\n",
    "\n",
    "By convention, we typically import this module using the `plt` alias:"
   ]
  },
  {
   "cell_type": "code",
   "execution_count": null,
   "id": "7",
   "metadata": {
    "id": "e49c3713-edd0-4c57-b3dd-a50357bfa2c4"
   },
   "outputs": [],
   "source": [
    "import matplotlib.pyplot as plt"
   ]
  },
  {
   "cell_type": "markdown",
   "id": "8",
   "metadata": {
    "id": "fdd662e3-04b1-4e56-8a9a-e15cec40b917"
   },
   "source": [
    "### Plotting"
   ]
  },
  {
   "cell_type": "markdown",
   "id": "9",
   "metadata": {
    "id": "4f966115-d35f-4981-9cf3-61985f2c7f02"
   },
   "source": [
    "The most important function in `matplotlib` is `plot`, which allows you to plot 2D data as a line plot. Here is a simple example:"
   ]
  },
  {
   "cell_type": "code",
   "execution_count": null,
   "id": "10",
   "metadata": {
    "id": "7a6e0ff6-ae4b-4a50-a472-b1b5c0b3da23"
   },
   "outputs": [],
   "source": [
    "# Compute the x and y coordinates for points on a sine curve\n",
    "x = np.linspace(0, 3 * np.pi, 30)\n",
    "y = np.sin(x)\n",
    "\n",
    "# Plot the points using matplotlib\n",
    "plt.figure()  # create a new figure\n",
    "plt.plot(x, y)\n",
    "\n",
    "# Show the figure.\n",
    "plt.show()"
   ]
  },
  {
   "cell_type": "markdown",
   "id": "11",
   "metadata": {
    "id": "18e74092-d88b-4330-9272-deda49e09c56"
   },
   "source": [
    "With just a little bit of extra work we can easily plot multiple lines at once, and add a title, legend, and axis labels:"
   ]
  },
  {
   "cell_type": "code",
   "execution_count": null,
   "id": "12",
   "metadata": {
    "id": "3d63edc1-23b2-40cd-91c5-2c603be9801e"
   },
   "outputs": [],
   "source": [
    "y_sin = np.sin(x)\n",
    "y_cos = np.cos(x)\n",
    "\n",
    "# Plot the points using matplotlib\n",
    "plt.figure()\n",
    "plt.plot(x, y_sin, label='Sine')\n",
    "plt.plot(x, y_cos, label='Cosine')\n",
    "plt.legend() # uses the label arguments given above\n",
    "\n",
    "plt.xlabel('x axis label')\n",
    "plt.ylabel('y axis label')\n",
    "plt.title('Sine and Cosine')\n",
    "\n",
    "# Show the figure.\n",
    "plt.show()"
   ]
  },
  {
   "cell_type": "markdown",
   "id": "13",
   "metadata": {
    "id": "d1aded07-7334-400d-bd72-22a2a60a65d8"
   },
   "source": [
    "Another useful, basic, plot is the `scatter` plot. Using `plt.savefig(filepath)`, we can save a figure."
   ]
  },
  {
   "cell_type": "code",
   "execution_count": null,
   "id": "14",
   "metadata": {
    "id": "04fc2f05-e3b6-4146-afca-7b039af7d605"
   },
   "outputs": [],
   "source": [
    "x = np.random.rand(50)\n",
    "y = np.random.rand(50)\n",
    "colors = np.random.randint(0, 2, 50)\n",
    "\n",
    "plt.figure()\n",
    "plt.scatter(x, y, c=colors)\n",
    "\n",
    "plt.savefig(\"scatter_example.png\")\n",
    "\n",
    "plt.show()"
   ]
  },
  {
   "cell_type": "markdown",
   "id": "15",
   "metadata": {
    "id": "8ebcd0b4-ba3b-4287-8ce6-b7c57492415b"
   },
   "source": [
    "When there is no logical connection between adjacent points (for example: if the horizontal axis is a categorical variable without a logical order), then you should *not* connect them (as in a line plot), since this implies a relationship that does not exist! Instead, you would use a scatter plot."
   ]
  },
  {
   "cell_type": "markdown",
   "id": "16",
   "metadata": {
    "id": "ecde9d53-8ad0-4b55-abce-a23e15e1e1f9"
   },
   "source": [
    "### Subplots"
   ]
  },
  {
   "cell_type": "markdown",
   "id": "17",
   "metadata": {
    "id": "baf993cc-1f30-464e-a4ed-d93d57dadfa0"
   },
   "source": [
    "You can plot different things in the same figure using the `subplot` function. Here is an example:"
   ]
  },
  {
   "cell_type": "code",
   "execution_count": null,
   "id": "18",
   "metadata": {
    "id": "e83de13a-ad4f-41a0-b708-cc34787a711b"
   },
   "outputs": [],
   "source": [
    "# Compute the x and y coordinates for points on sine and cosine curves\n",
    "x = np.arange(0, 3 * np.pi, 0.1)\n",
    "y_sin = np.sin(x)\n",
    "y_cos = np.cos(x)\n",
    "\n",
    "# Set up a subplot grid that has height 2 and width 1,\n",
    "# and set the first such subplot as active.\n",
    "plt.figure()\n",
    "plt.subplot(2, 1, 1)\n",
    "\n",
    "# Make the first plot\n",
    "plt.plot(x, y_sin)\n",
    "plt.title('Sine')\n",
    "\n",
    "# Set the second subplot as active, and make the second plot.\n",
    "plt.subplot(2, 1, 2)\n",
    "plt.plot(x, y_cos)\n",
    "plt.title('Cosine')\n",
    "\n",
    "# Adjust spacing between subplots\n",
    "plt.subplots_adjust(hspace = 0.4)\n",
    "\n",
    "# Show the figure.\n",
    "plt.show()"
   ]
  },
  {
   "cell_type": "markdown",
   "id": "19",
   "metadata": {
    "id": "791ff577-24b4-4e64-8075-c8492e3592dd"
   },
   "source": [
    "You can read much more about the `subplot` function in the [documentation](http://matplotlib.org/api/pyplot_api.html#matplotlib.pyplot.subplot)."
   ]
  },
  {
   "cell_type": "markdown",
   "id": "20",
   "metadata": {},
   "source": [
    "Creating a histogram and plotting it can be done using the `hist` function:"
   ]
  },
  {
   "cell_type": "code",
   "execution_count": null,
   "id": "21",
   "metadata": {},
   "outputs": [],
   "source": [
    "data = np.random.normal(loc=1.5, scale=3, size=10_000)\n",
    "\n",
    "plt.figure()\n",
    "plt.hist(data, bins=50, range=(-4, 10))  # bins and range are optional\n",
    "plt.title(\"Histogram\")\n",
    "\n",
    "plt.show()"
   ]
  },
  {
   "cell_type": "markdown",
   "id": "22",
   "metadata": {
    "id": "cbfae954-52ab-4efe-86f4-3553e0f799c9"
   },
   "source": [
    "You can use the `imshow` function to display images from a file. Here is an example:"
   ]
  },
  {
   "cell_type": "code",
   "execution_count": null,
   "id": "23",
   "metadata": {
    "id": "9f536a15-9dd3-4283-95ff-6a05309175d5"
   },
   "outputs": [],
   "source": [
    "from matplotlib.cbook import get_sample_data\n",
    "\n",
    "img_file = get_sample_data('grace_hopper.jpg')\n",
    "\n",
    "plt.figure()\n",
    "img = plt.imread(img_file)\n",
    "plt.imshow(img)\n",
    "plt.show()"
   ]
  },
  {
   "cell_type": "markdown",
   "id": "24",
   "metadata": {
    "id": "825162e7-0cb0-4ff1-b687-340b9332f8ef"
   },
   "source": [
    "The `matplotlib` library is very flexible, and you can create virtually any plot and modify its appearance in any way you might think of. If you don’t like the way your plot looks, fix it! Use the [documentation](http://matplotlib.org/api/pyplot_api.html) to learn more."
   ]
  },
  {
   "cell_type": "markdown",
   "id": "25",
   "metadata": {},
   "source": [
    "**Exericse**\n",
    "\n",
    "1. Create a dataset consisting of 10'000 points that is normally distributed with a mean of 10 and a width of 2.\n",
    "2. Copy-and-paste the function `normal_dist` you've created in the previous numpy tutorial\n",
    "3. Plot the distribution  (_hint_: use `np.linspace`, choose a reasonable lower and upper bound and number of elements to get x, and use `normal_dist` with this array).\n",
    "4. Plot it as a histogram and use `density=True` (in the same figure, i.e. in the same cell). Use an appropriate number of bins (e.g. 50).\n",
    "5. Extend it and replot (just execute the cell again)! Add a title, xlabel, ylabel, label for the function etc.\n"
   ]
  },
  {
   "cell_type": "code",
   "execution_count": null,
   "id": "26",
   "metadata": {},
   "outputs": [],
   "source": [
    "import numpy as np"
   ]
  },
  {
   "cell_type": "code",
   "execution_count": null,
   "id": "27",
   "metadata": {},
   "outputs": [],
   "source": []
  },
  {
   "cell_type": "markdown",
   "id": "28",
   "metadata": {},
   "source": [
    "**Solution**"
   ]
  },
  {
   "cell_type": "code",
   "execution_count": null,
   "id": "29",
   "metadata": {},
   "outputs": [],
   "source": [
    "data = np.random.normal(loc=10, scale=2, size=10_000)"
   ]
  },
  {
   "cell_type": "code",
   "execution_count": null,
   "id": "30",
   "metadata": {},
   "outputs": [],
   "source": [
    "def normal_dist(x, mean, width):\n",
    "    \"\"\"Normal distribution evaluted on `x` with `mean` and `width`\n",
    "    \n",
    "    The normal distribution is defined as \n",
    "    \n",
    "    .. math:\n",
    "    \n",
    "        f(x) = \\frac{1}{\\sigma \\sqrt(2 \\pi)} \\exp{- 0.5 (\\frac{x - \\mu}{ \\sigma}) ^ 2}\n",
    "       \n",
    "    with :math:`\\mu` the mean and :math:`\\sigma` the width.\n",
    "    \n",
    "    \"\"\"\n",
    "    factor = 1 / (width * np.sqrt(2 * np.pi))\n",
    "    exponent = - 0.5 * ((x - mean) / width) ** 2\n",
    "    return factor * np.exp(exponent)"
   ]
  },
  {
   "cell_type": "code",
   "execution_count": null,
   "id": "31",
   "metadata": {},
   "outputs": [],
   "source": [
    "x = np.linspace(1, 20, num=200)\n",
    "y = normal_dist(x, mean=10, width=2)"
   ]
  },
  {
   "cell_type": "code",
   "execution_count": null,
   "id": "32",
   "metadata": {},
   "outputs": [],
   "source": [
    "plt.figure()\n",
    "plt.title(\"Normal distribution with data\")\n",
    "plt.plot(x, y, label=\"normal dist\")\n",
    "plt.hist(data, bins=50, density=True, label=\"data\")\n",
    "\n",
    "plt.xlabel(\"my variable\")\n",
    "plt.ylabel(\"density\")\n",
    "plt.legend()\n"
   ]
  }
 ],
 "metadata": {
  "colab": {
   "provenance": []
  },
  "kernelspec": {
   "display_name": "Python 3 (ipykernel)",
   "language": "python",
   "name": "python3"
  },
  "language_info": {
   "codemirror_mode": {
    "name": "ipython",
    "version": 3
   },
   "file_extension": ".py",
   "mimetype": "text/x-python",
   "name": "python",
   "nbconvert_exporter": "python",
   "pygments_lexer": "ipython3",
   "version": "3.11.9"
  }
 },
 "nbformat": 4,
 "nbformat_minor": 5
}
