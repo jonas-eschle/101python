{
 "cells": [
  {
   "cell_type": "markdown",
   "id": "d6a48233-0736-4791-ab09-b9e432700780",
   "metadata": {
    "id": "d6a48233-0736-4791-ab09-b9e432700780"
   },
   "source": [
    "# Numpy introduction\n",
    "\n"
   ]
  },
  {
   "cell_type": "markdown",
   "id": "2f8f08d0-ee5d-4c3f-af38-60f72d0cc790",
   "metadata": {
    "id": "2f8f08d0-ee5d-4c3f-af38-60f72d0cc790"
   },
   "source": [
    "**Attribution**:\n",
    "\n",
    "-   By Jonas Eschle and Rafael Silva Coutinho, based on the [tutorial](https://colab.research.google.com/github/ffund/ml-notebooks/blob/master/notebooks/1-python-numpy-tutorial.ipynb) by *Fraida Fund*"
   ]
  },
  {
   "cell_type": "markdown",
   "id": "b8c81981-ec2e-4984-bc03-c0d6ebd5b1b0",
   "metadata": {
    "id": "b8c81981-ec2e-4984-bc03-c0d6ebd5b1b0"
   },
   "source": [
    "## Introduction"
   ]
  },
  {
   "cell_type": "markdown",
   "id": "240d95fd-7840-40e5-9d88-ad34c882f072",
   "metadata": {
    "id": "240d95fd-7840-40e5-9d88-ad34c882f072"
   },
   "source": [
    "Python is a great general-purpose programming language on its own, but with the help of a few popular *libraries* (`numpy`, `pandas`, `matplotlib`) it becomes a powerful environment for scientific computing."
   ]
  },
  {
   "cell_type": "markdown",
   "id": "7e38a0f8-f6f9-49bb-aa05-5667ad3b3a12",
   "metadata": {
    "id": "7e38a0f8-f6f9-49bb-aa05-5667ad3b3a12"
   },
   "source": [
    "In this notebook, we will cover:\n",
    "\n",
    "-   `numpy`: Arrays, Array indexing, Datatypes, Array math, Broadcasting\n",
    "-   `matplotlib`: Basic Visualization, Subplots, Image Visualization\n",
    "\n",
    "*Note that variables in these tutorials are often just a single letter, as the code written is about a line or two. For anything more general, proper names are used and should always be used*"
   ]
  },
  {
   "cell_type": "markdown",
   "id": "bf02826b-e527-43b4-a42d-1577c070e3ba",
   "metadata": {
    "id": "bf02826b-e527-43b4-a42d-1577c070e3ba"
   },
   "source": [
    "## Numpy"
   ]
  },
  {
   "cell_type": "markdown",
   "id": "b4cf4645-5505-4059-87fe-1c9c6052958f",
   "metadata": {
    "id": "b4cf4645-5505-4059-87fe-1c9c6052958f"
   },
   "source": [
    "Numpy is the core library for scientific computing in Python. It provides a high-performance multidimensional array object, and tools for working with these arrays."
   ]
  },
  {
   "cell_type": "markdown",
   "id": "61e9f793-d834-4362-bd11-47754caa6fd0",
   "metadata": {
    "id": "61e9f793-d834-4362-bd11-47754caa6fd0"
   },
   "source": [
    "To use Numpy, we first need to import the `numpy` package. By convention, we import it using the alias `np`. Then, when we want to use modules or functions in this library, we preface them with `np.`"
   ]
  },
  {
   "cell_type": "code",
   "execution_count": 1,
   "id": "03ba5ce8-938d-4219-8237-3e08291c2318",
   "metadata": {
    "ExecuteTime": {
     "end_time": "2024-08-08T09:48:12.991535Z",
     "start_time": "2024-08-08T09:48:12.988201Z"
    },
    "id": "03ba5ce8-938d-4219-8237-3e08291c2318"
   },
   "outputs": [],
   "source": [
    "import numpy as np"
   ]
  },
  {
   "cell_type": "markdown",
   "id": "190fe0ab-4ee6-459d-8492-c816258b0286",
   "metadata": {
    "id": "190fe0ab-4ee6-459d-8492-c816258b0286"
   },
   "source": [
    "### Arrays and array construction"
   ]
  },
  {
   "cell_type": "markdown",
   "id": "b86ed7e5-47cf-4dbc-a950-8d6b3ad52f57",
   "metadata": {
    "id": "b86ed7e5-47cf-4dbc-a950-8d6b3ad52f57"
   },
   "source": [
    "A numpy array is a grid of values, all of the same type, and is indexed by a tuple of nonnegative integers. The number of dimensions is the rank of the array; the shape of an array is a tuple of integers giving the size of the array along each dimension."
   ]
  },
  {
   "cell_type": "markdown",
   "id": "0964684d-78c5-4619-8145-d224cffb1d8a",
   "metadata": {
    "id": "0964684d-78c5-4619-8145-d224cffb1d8a"
   },
   "source": [
    "We can create a `numpy` array by passing a Python list to `np.array()`."
   ]
  },
  {
   "cell_type": "code",
   "execution_count": 2,
   "id": "8e173212-5a79-437b-a7b6-5346e439de82",
   "metadata": {
    "ExecuteTime": {
     "end_time": "2024-08-08T09:48:14.108250Z",
     "start_time": "2024-08-08T09:48:14.104300Z"
    },
    "id": "8e173212-5a79-437b-a7b6-5346e439de82"
   },
   "outputs": [],
   "source": [
    "a = np.array([1, 2, 3])  # Create a rank 1 array"
   ]
  },
  {
   "cell_type": "markdown",
   "id": "eb5aac84-6891-446a-9a67-d5f4309f2ba6",
   "metadata": {
    "id": "eb5aac84-6891-446a-9a67-d5f4309f2ba6"
   },
   "source": [
    "This creates the array we can see on the right here:\n",
    "\n",
    "![](http://jalammar.github.io/images/numpy/create-numpy-array-1.png)"
   ]
  },
  {
   "cell_type": "code",
   "execution_count": 3,
   "id": "a5dd201a-213d-417a-8542-e32ceb55a687",
   "metadata": {
    "ExecuteTime": {
     "end_time": "2024-08-08T09:48:14.172282Z",
     "start_time": "2024-08-08T09:48:14.169240Z"
    },
    "id": "a5dd201a-213d-417a-8542-e32ceb55a687"
   },
   "outputs": [
    {
     "name": "stdout",
     "output_type": "stream",
     "text": [
      "<class 'numpy.ndarray'> (3,) 1 2 3\n",
      "[5 2 3]\n"
     ]
    }
   ],
   "source": [
    "print(type(a), a.shape, a[0], a[1], a[2])\n",
    "a[0] = 5                 # Change an element of the array\n",
    "print(a)"
   ]
  },
  {
   "cell_type": "markdown",
   "id": "234030fa-8140-4f6e-8b8e-2a94ad931778",
   "metadata": {
    "id": "234030fa-8140-4f6e-8b8e-2a94ad931778"
   },
   "source": [
    "To create a `numpy` array with more dimensions, we can pass nested lists, like this:\n",
    "\n",
    "![](http://jalammar.github.io/images/numpy/numpy-array-create-2d.png)\n",
    "\n",
    "![](http://jalammar.github.io/images/numpy/numpy-3d-array.png)"
   ]
  },
  {
   "cell_type": "code",
   "execution_count": 4,
   "id": "3ff3db12-c0d1-4895-8ba7-200bbdf41d0f",
   "metadata": {
    "ExecuteTime": {
     "end_time": "2024-08-08T09:48:14.294965Z",
     "start_time": "2024-08-08T09:48:14.291703Z"
    },
    "id": "3ff3db12-c0d1-4895-8ba7-200bbdf41d0f"
   },
   "outputs": [
    {
     "name": "stdout",
     "output_type": "stream",
     "text": [
      "[[1 2]\n",
      " [3 4]]\n"
     ]
    }
   ],
   "source": [
    "b = np.array([[1,2],[3,4]])   # Create a rank 2 array\n",
    "print(b)"
   ]
  },
  {
   "cell_type": "code",
   "execution_count": 5,
   "id": "3898a66e-cde5-4749-980c-f72e5e453a10",
   "metadata": {
    "ExecuteTime": {
     "end_time": "2024-08-08T09:48:14.323633Z",
     "start_time": "2024-08-08T09:48:14.320798Z"
    },
    "id": "3898a66e-cde5-4749-980c-f72e5e453a10"
   },
   "outputs": [
    {
     "name": "stdout",
     "output_type": "stream",
     "text": [
      "(2, 2)\n"
     ]
    }
   ],
   "source": [
    "print(b.shape)"
   ]
  },
  {
   "cell_type": "markdown",
   "id": "59994140-982d-44d4-b735-c368cf11ab8c",
   "metadata": {
    "id": "59994140-982d-44d4-b735-c368cf11ab8c"
   },
   "source": [
    "There are often cases when we want numpy to initialize the values of the array for us. numpy provides methods like `ones()`, `zeros()`, and `random.random()` for these cases. We just pass them the number of elements we want it to generate:\n",
    "\n",
    "![](http://jalammar.github.io/images/numpy/create-numpy-array-ones-zeros-random.png)"
   ]
  },
  {
   "cell_type": "markdown",
   "id": "f5cd30f4-91ac-421a-b25a-8cfbddb518c7",
   "metadata": {
    "id": "f5cd30f4-91ac-421a-b25a-8cfbddb518c7"
   },
   "source": [
    "We can also use these methods to produce multi-dimensional arrays, as long as we pass them a tuple describing the dimensions of the matrix we want to create:\n",
    "\n",
    "![](http://jalammar.github.io/images/numpy/numpy-matrix-ones-zeros-random.png)\n",
    "\n",
    "![](http://jalammar.github.io/images/numpy/numpy-3d-array-creation.png)"
   ]
  },
  {
   "cell_type": "markdown",
   "id": "735fccf7-462b-4091-9c87-d1ea8add559c",
   "metadata": {
    "id": "735fccf7-462b-4091-9c87-d1ea8add559c"
   },
   "source": [
    "Sometimes, we need an array of a specific shape with “placeholder” values that we plan to fill in with the result of a computation. The `zeros` or `ones` functions are handy for this:"
   ]
  },
  {
   "cell_type": "code",
   "execution_count": 6,
   "id": "61dddfaf-a5eb-4d3d-a59d-85ea7e18d71a",
   "metadata": {
    "ExecuteTime": {
     "end_time": "2024-08-08T09:48:14.468694Z",
     "start_time": "2024-08-08T09:48:14.465369Z"
    },
    "id": "61dddfaf-a5eb-4d3d-a59d-85ea7e18d71a"
   },
   "outputs": [
    {
     "name": "stdout",
     "output_type": "stream",
     "text": [
      "[[0. 0.]\n",
      " [0. 0.]]\n"
     ]
    }
   ],
   "source": [
    "a = np.zeros((2,2))  # Create an array of all zeros\n",
    "print(a)"
   ]
  },
  {
   "cell_type": "code",
   "execution_count": 7,
   "id": "aab64565-d940-42ae-915b-58c564384d48",
   "metadata": {
    "ExecuteTime": {
     "end_time": "2024-08-08T09:48:14.545113Z",
     "start_time": "2024-08-08T09:48:14.542030Z"
    },
    "id": "aab64565-d940-42ae-915b-58c564384d48"
   },
   "outputs": [
    {
     "name": "stdout",
     "output_type": "stream",
     "text": [
      "[[1. 1.]]\n"
     ]
    }
   ],
   "source": [
    "b = np.ones((1,2))   # Create an array of all ones\n",
    "print(b)"
   ]
  },
  {
   "cell_type": "code",
   "execution_count": 8,
   "id": "121ece5c-b965-44a1-9643-44c4b29e1c5a",
   "metadata": {
    "ExecuteTime": {
     "end_time": "2024-08-08T09:48:14.708094Z",
     "start_time": "2024-08-08T09:48:14.704912Z"
    },
    "id": "121ece5c-b965-44a1-9643-44c4b29e1c5a"
   },
   "outputs": [
    {
     "name": "stdout",
     "output_type": "stream",
     "text": [
      "[[7 7]\n",
      " [7 7]]\n"
     ]
    }
   ],
   "source": [
    "c = np.full((2,2), 7) # Create a constant array\n",
    "print(c)"
   ]
  },
  {
   "cell_type": "code",
   "execution_count": 9,
   "id": "70627e5f-197d-46cf-984e-dfba32277650",
   "metadata": {
    "ExecuteTime": {
     "end_time": "2024-08-08T09:48:14.757369Z",
     "start_time": "2024-08-08T09:48:14.753607Z"
    },
    "id": "70627e5f-197d-46cf-984e-dfba32277650"
   },
   "outputs": [
    {
     "name": "stdout",
     "output_type": "stream",
     "text": [
      "[[1. 0.]\n",
      " [0. 1.]]\n"
     ]
    }
   ],
   "source": [
    "d = np.eye(2)        # Create a 2x2 identity matrix\n",
    "print(d)"
   ]
  },
  {
   "cell_type": "code",
   "execution_count": 10,
   "id": "6f0c09f0-3894-47fd-a349-4ecc04fb9aad",
   "metadata": {
    "ExecuteTime": {
     "end_time": "2024-08-08T09:48:14.884694Z",
     "start_time": "2024-08-08T09:48:14.881298Z"
    },
    "id": "6f0c09f0-3894-47fd-a349-4ecc04fb9aad"
   },
   "outputs": [
    {
     "name": "stdout",
     "output_type": "stream",
     "text": [
      "[[0.72094394 0.85509953]\n",
      " [0.77806635 0.55117556]]\n"
     ]
    }
   ],
   "source": [
    "e = np.random.random((2,2)) # Create an array filled with random values\n",
    "print(e)"
   ]
  },
  {
   "cell_type": "markdown",
   "id": "8e48ce8d-88dc-4a78-9c5c-1c1edf7e02cb",
   "metadata": {
    "id": "8e48ce8d-88dc-4a78-9c5c-1c1edf7e02cb"
   },
   "source": [
    "Lastly, I want to mention two very useful functions for creating sequences of numbers within a specified range, namely, arange and linspace. NumPy’s arange function follows the same syntax as Python’s range objects: If two arguments are provided, the first argument represents the start value and the second value defines the stop value of a half-open interval:"
   ]
  },
  {
   "cell_type": "markdown",
   "id": "120b4c7908af4fc0",
   "metadata": {},
   "source": [
    "## Interlude: arrays vs lists\n",
    "\n",
    "We've seen lists and tuples before and understanding the difference to arrays is essential.\n",
    "\n",
    "Lists are _pure_ Python objects that hold other python objects. They are minimalistic objects in the sense that they make no assumption about their content. They're mutable, have a length and one can iterate through. There is no common datatype, a list can contain other lists of arbitrary shapes and so on. **A list is a Python container**\n",
    "\n",
    "Arrays are objects that represent **mathematical vectors**: they have a rectangular shape and all elements have a common dtype.\n",
    "\n",
    "It follows that the objects behave fundamentally different, and to understand this, the question should always be: \"what do I expect a general purpose, mutable Python container to do?\" if it is a list, or \"What do I expect a mathematical vector to do?\" if it's an array.\n",
    "\n",
    "Back to arrays!"
   ]
  },
  {
   "cell_type": "markdown",
   "id": "64c38479-b55e-4dfc-8474-90d4782c0722",
   "metadata": {
    "id": "64c38479-b55e-4dfc-8474-90d4782c0722"
   },
   "source": [
    "## Array constructors\n",
    "\n",
    "Numpy also has two useful functions for creating sequences of numbers: `arange` and `linspace`.\n",
    "\n",
    "The `arange` function accepts three arguments, which define the start value, stop value of a half-open interval, and step size. (The default step size, if not explicitly specified, is 1; the default start value, if not explicitly specified, is 0.)\n",
    "\n",
    "The `linspace` function is similar, but we can specify the number of values instead of the step size, and it will create a sequence of evenly spaced values."
   ]
  },
  {
   "cell_type": "code",
   "execution_count": 11,
   "id": "1c6208b2-5503-4fb0-9902-439bf83df7b0",
   "metadata": {
    "ExecuteTime": {
     "end_time": "2024-08-08T09:48:15.024196Z",
     "start_time": "2024-08-08T09:48:15.020947Z"
    },
    "id": "1c6208b2-5503-4fb0-9902-439bf83df7b0"
   },
   "outputs": [
    {
     "name": "stdout",
     "output_type": "stream",
     "text": [
      "[10 15 20 25 30 35 40 45]\n"
     ]
    }
   ],
   "source": [
    "f = np.arange(10,50,5)   # Create an array of values starting at 10 in increments of 5\n",
    "print(f)"
   ]
  },
  {
   "cell_type": "markdown",
   "id": "9d78987c-9542-4ecf-8ce5-153be2bc29a2",
   "metadata": {
    "id": "9d78987c-9542-4ecf-8ce5-153be2bc29a2"
   },
   "source": [
    "Note this ends on 45, not 50 (does not include the top end of the interval).\n",
    "\n",
    "**Note** As floating point arithmetic is not precise, `np.arange` should only be used with integers! Otherwise, the end may or may not be included."
   ]
  },
  {
   "cell_type": "code",
   "execution_count": 12,
   "id": "9e23b524-d187-4da2-bc91-6fb6ea401764",
   "metadata": {
    "ExecuteTime": {
     "end_time": "2024-08-08T09:48:15.079027Z",
     "start_time": "2024-08-08T09:48:15.075576Z"
    },
    "id": "9e23b524-d187-4da2-bc91-6fb6ea401764"
   },
   "outputs": [
    {
     "name": "stdout",
     "output_type": "stream",
     "text": [
      "[0.   0.25 0.5  0.75 1.  ]\n"
     ]
    }
   ],
   "source": [
    "g = np.linspace(0., 1., num=5)\n",
    "print(g)"
   ]
  },
  {
   "cell_type": "markdown",
   "id": "4a46dbd6-7be1-4cff-99b0-0fa9727e638f",
   "metadata": {
    "id": "4a46dbd6-7be1-4cff-99b0-0fa9727e638f"
   },
   "source": [
    "Sometimes, we may want to construct an array from existing arrays by “stacking” the existing arrays, either vertically or horizontally. We can use `vstack()` (or `row_stack`) and `hstack()` (or `column_stack`), respectively."
   ]
  },
  {
   "cell_type": "code",
   "execution_count": 13,
   "id": "8f18be1e-aaf6-4434-83fd-beb4a5f12375",
   "metadata": {
    "ExecuteTime": {
     "end_time": "2024-08-08T09:48:15.208046Z",
     "start_time": "2024-08-08T09:48:15.202728Z"
    },
    "id": "8f18be1e-aaf6-4434-83fd-beb4a5f12375"
   },
   "outputs": [
    {
     "data": {
      "text/plain": [
       "array([[1, 2, 3],\n",
       "       [4, 5, 6]])"
      ]
     },
     "execution_count": 13,
     "metadata": {},
     "output_type": "execute_result"
    }
   ],
   "source": [
    "a = np.array([1, 2, 3])\n",
    "b = np.array([4, 5, 6])\n",
    "np.vstack((a,b))"
   ]
  },
  {
   "cell_type": "code",
   "execution_count": 14,
   "id": "1b2c6801-7af0-4b5d-a6cc-8e95997c50b4",
   "metadata": {
    "ExecuteTime": {
     "end_time": "2024-08-08T09:48:15.298226Z",
     "start_time": "2024-08-08T09:48:15.292479Z"
    },
    "id": "1b2c6801-7af0-4b5d-a6cc-8e95997c50b4"
   },
   "outputs": [
    {
     "data": {
      "text/plain": [
       "array([[7, 4],\n",
       "       [8, 5],\n",
       "       [9, 6]])"
      ]
     },
     "execution_count": 14,
     "metadata": {},
     "output_type": "execute_result"
    }
   ],
   "source": [
    "a = np.array([[7], [8], [9]])\n",
    "b = np.array([[4], [5], [6]])\n",
    "np.hstack((a,b))"
   ]
  },
  {
   "cell_type": "markdown",
   "id": "e5fcad1c-e41e-49cf-b525-d1346167594a",
   "metadata": {
    "id": "e5fcad1c-e41e-49cf-b525-d1346167594a"
   },
   "source": [
    "### Array indexing"
   ]
  },
  {
   "cell_type": "markdown",
   "id": "83f93d78-5e62-45d1-a37f-3083dd808190",
   "metadata": {
    "id": "83f93d78-5e62-45d1-a37f-3083dd808190"
   },
   "source": [
    "Numpy offers several ways to index into arrays."
   ]
  },
  {
   "cell_type": "markdown",
   "id": "054e77f3-7369-426c-99ee-79ef4ad3252a",
   "metadata": {
    "id": "054e77f3-7369-426c-99ee-79ef4ad3252a"
   },
   "source": [
    "We can index and slice numpy arrays in all the ways we can slice Python lists:\n",
    "\n",
    "![](http://jalammar.github.io/images/numpy/numpy-array-slice.png)\n",
    "\n",
    "And you can index and slice numpy arrays in multiple dimensions. If slicing an array with more than one dimension, you should specify a slice for each dimension:\n",
    "\n",
    "![](http://jalammar.github.io/images/numpy/numpy-matrix-indexing.png)"
   ]
  },
  {
   "cell_type": "code",
   "execution_count": 15,
   "id": "d94de2b0-983c-45ca-b36c-524a2db3a32c",
   "metadata": {
    "ExecuteTime": {
     "end_time": "2024-08-08T09:48:15.448223Z",
     "start_time": "2024-08-08T09:48:15.444332Z"
    },
    "id": "d94de2b0-983c-45ca-b36c-524a2db3a32c"
   },
   "outputs": [
    {
     "name": "stdout",
     "output_type": "stream",
     "text": [
      "[[2 3]\n",
      " [6 7]]\n"
     ]
    }
   ],
   "source": [
    "# Create the following rank 2 array with shape (3, 4)\n",
    "# [[ 1  2  3  4]\n",
    "#  [ 5  6  7  8]\n",
    "#  [ 9 10 11 12]]\n",
    "a = np.array([[1,2,3,4], [5,6,7,8], [9,10,11,12]])\n",
    "\n",
    "# Use slicing to pull out the subarray consisting of the first 2 rows\n",
    "# and columns 1 and 2; b is the following array of shape (2, 2):\n",
    "# [[2 3]\n",
    "#  [6 7]]\n",
    "b = a[:2, 1:3]\n",
    "print(b)"
   ]
  },
  {
   "cell_type": "markdown",
   "id": "fadca993-9d2e-4dde-9388-6415fadeef98",
   "metadata": {
    "id": "fadca993-9d2e-4dde-9388-6415fadeef98"
   },
   "source": [
    "A slice of an array is a view into the same data, so modifying it will modify the original array."
   ]
  },
  {
   "cell_type": "code",
   "execution_count": 16,
   "id": "1041b4a5-4e49-4119-917e-615561fcf570",
   "metadata": {
    "ExecuteTime": {
     "end_time": "2024-08-08T09:48:15.583018Z",
     "start_time": "2024-08-08T09:48:15.578308Z"
    },
    "id": "1041b4a5-4e49-4119-917e-615561fcf570"
   },
   "outputs": [
    {
     "name": "stdout",
     "output_type": "stream",
     "text": [
      "2\n",
      "77\n"
     ]
    }
   ],
   "source": [
    "print(a[0, 1])\n",
    "b[0, 0] = 77    # b[0, 0] is the same piece of data as a[0, 1]\n",
    "print(a[0, 1])"
   ]
  },
  {
   "cell_type": "markdown",
   "id": "995e2a9c-2f80-469e-a40c-76a1d94a5841",
   "metadata": {
    "id": "995e2a9c-2f80-469e-a40c-76a1d94a5841"
   },
   "source": [
    "You can also mix integer indexing with slice indexing. However, doing so will yield an array of lower rank than the original array. Note that this is quite different from the way that MATLAB handles array slicing:"
   ]
  },
  {
   "cell_type": "code",
   "execution_count": 17,
   "id": "b608b60c-5379-497f-9e11-d8f2caf05c55",
   "metadata": {
    "ExecuteTime": {
     "end_time": "2024-08-08T09:48:15.655763Z",
     "start_time": "2024-08-08T09:48:15.652296Z"
    },
    "id": "b608b60c-5379-497f-9e11-d8f2caf05c55"
   },
   "outputs": [
    {
     "name": "stdout",
     "output_type": "stream",
     "text": [
      "[[ 1  2  3  4]\n",
      " [ 5  6  7  8]\n",
      " [ 9 10 11 12]]\n"
     ]
    }
   ],
   "source": [
    "# Create the following rank 2 array with shape (3, 4)\n",
    "a = np.array([[1,2,3,4], [5,6,7,8], [9,10,11,12]])\n",
    "print(a)"
   ]
  },
  {
   "cell_type": "markdown",
   "id": "58f38253-463c-48d0-a702-3ddf94120629",
   "metadata": {
    "id": "58f38253-463c-48d0-a702-3ddf94120629"
   },
   "source": [
    "Two ways of accessing the data in the middle row of the array. Mixing integer indexing with slices yields an array of lower rank, while using only slices yields an array of the same rank as the original array:"
   ]
  },
  {
   "cell_type": "code",
   "execution_count": 18,
   "id": "0c3dd6e7-04b8-4f7a-b233-117cde5e2b4e",
   "metadata": {
    "ExecuteTime": {
     "end_time": "2024-08-08T09:48:15.825498Z",
     "start_time": "2024-08-08T09:48:15.821893Z"
    },
    "id": "0c3dd6e7-04b8-4f7a-b233-117cde5e2b4e"
   },
   "outputs": [
    {
     "name": "stdout",
     "output_type": "stream",
     "text": [
      "[5 6 7 8] (4,)\n",
      "[[5 6 7 8]] (1, 4)\n",
      "[[5 6 7 8]] (1, 4)\n"
     ]
    }
   ],
   "source": [
    "row_r1 = a[1, :]    # Rank 1 view of the second row of a\n",
    "row_r2 = a[1:2, :]  # Rank 2 view of the second row of a\n",
    "row_r3 = a[[1], :]  # Rank 2 view of the second row of a\n",
    "print(row_r1, row_r1.shape)\n",
    "print(row_r2, row_r2.shape)\n",
    "print(row_r3, row_r3.shape)"
   ]
  },
  {
   "cell_type": "code",
   "execution_count": 19,
   "id": "d1c9bb25-d326-454b-89e3-be5139149855",
   "metadata": {
    "ExecuteTime": {
     "end_time": "2024-08-08T09:48:15.882650Z",
     "start_time": "2024-08-08T09:48:15.878651Z"
    },
    "id": "d1c9bb25-d326-454b-89e3-be5139149855"
   },
   "outputs": [
    {
     "name": "stdout",
     "output_type": "stream",
     "text": [
      "[ 2  6 10] (3,)\n",
      "\n",
      "[[ 2]\n",
      " [ 6]\n",
      " [10]] (3, 1)\n"
     ]
    }
   ],
   "source": [
    "# We can make the same distinction when accessing columns of an array:\n",
    "col_r1 = a[:, 1]\n",
    "col_r2 = a[:, 1:2]\n",
    "print(col_r1, col_r1.shape)\n",
    "print()\n",
    "print(col_r2, col_r2.shape)"
   ]
  },
  {
   "cell_type": "markdown",
   "id": "a7835461-34e9-4437-8f9b-ad6b909de079",
   "metadata": {
    "id": "a7835461-34e9-4437-8f9b-ad6b909de079"
   },
   "source": [
    "Integer array indexing: When you index into numpy arrays using slicing, the resulting array view will always be a subarray of the original array. In contrast, integer array indexing allows you to construct arbitrary arrays using the data from another array. Here is an example:"
   ]
  },
  {
   "cell_type": "code",
   "execution_count": 20,
   "id": "806d91e7-981a-4955-9e1b-ea0226eec00e",
   "metadata": {
    "ExecuteTime": {
     "end_time": "2024-08-08T09:48:16.027915Z",
     "start_time": "2024-08-08T09:48:16.023819Z"
    },
    "id": "806d91e7-981a-4955-9e1b-ea0226eec00e"
   },
   "outputs": [
    {
     "name": "stdout",
     "output_type": "stream",
     "text": [
      "[1 4 5]\n",
      "[1 4 5]\n"
     ]
    }
   ],
   "source": [
    "a = np.array([[1,2], [3, 4], [5, 6]])\n",
    "\n",
    "# An example of integer array indexing.\n",
    "# The returned array will have shape (3,) and\n",
    "print(a[[0, 1, 2], [0, 1, 0]])\n",
    "\n",
    "# The above example of integer array indexing is equivalent to this:\n",
    "print(np.array([a[0, 0], a[1, 1], a[2, 0]]))"
   ]
  },
  {
   "cell_type": "code",
   "execution_count": 93,
   "id": "07ae8f7b-ea13-4cfe-b26a-3fb6cdda4bdd",
   "metadata": {
    "ExecuteTime": {
     "end_time": "2024-08-08T09:48:16.070045Z",
     "start_time": "2024-08-08T09:48:16.066454Z"
    },
    "id": "07ae8f7b-ea13-4cfe-b26a-3fb6cdda4bdd"
   },
   "outputs": [
    {
     "name": "stdout",
     "output_type": "stream",
     "text": [
      "[2 2]\n",
      "[2 2]\n"
     ]
    }
   ],
   "source": [
    "# When using integer array indexing, you can reuse the same\n",
    "# element from the source array:\n",
    "print(a[[0, 0], [1, 1]])\n",
    "\n",
    "# Equivalent to the previous integer array indexing example\n",
    "print(np.array([a[0, 1], a[0, 1]]))"
   ]
  },
  {
   "cell_type": "markdown",
   "id": "24ebdd61-2313-4aec-a02a-e4b898906ec5",
   "metadata": {
    "id": "24ebdd61-2313-4aec-a02a-e4b898906ec5"
   },
   "source": [
    "One useful trick with integer array indexing is selecting or mutating one element from each row of a matrix:"
   ]
  },
  {
   "cell_type": "code",
   "execution_count": 94,
   "id": "1260ecb9-799c-4a08-8d77-5da2abc5db8f",
   "metadata": {
    "ExecuteTime": {
     "end_time": "2024-08-08T09:48:16.213098Z",
     "start_time": "2024-08-08T09:48:16.208999Z"
    },
    "id": "1260ecb9-799c-4a08-8d77-5da2abc5db8f"
   },
   "outputs": [
    {
     "name": "stdout",
     "output_type": "stream",
     "text": [
      "[[ 1  2  3]\n",
      " [ 4  5  6]\n",
      " [ 7  8  9]\n",
      " [10 11 12]]\n"
     ]
    }
   ],
   "source": [
    "# Create a new array from which we will select elements\n",
    "a = np.array([[1,2,3], [4,5,6], [7,8,9], [10, 11, 12]])\n",
    "print(a)"
   ]
  },
  {
   "cell_type": "code",
   "execution_count": 95,
   "id": "76d3c86a-3d03-423d-909b-09598b903965",
   "metadata": {
    "ExecuteTime": {
     "end_time": "2024-08-08T09:48:16.295184Z",
     "start_time": "2024-08-08T09:48:16.290366Z"
    },
    "id": "76d3c86a-3d03-423d-909b-09598b903965"
   },
   "outputs": [
    {
     "name": "stdout",
     "output_type": "stream",
     "text": [
      "[ 1  6  7 11]\n"
     ]
    }
   ],
   "source": [
    "# Create an array of indices\n",
    "b = np.array([0, 2, 0, 1])\n",
    "\n",
    "# Select one element from each row of a using the indices in b\n",
    "print(a[np.arange(4), b])  # Prints \"[ 1  6  7 11]\""
   ]
  },
  {
   "cell_type": "code",
   "execution_count": 96,
   "id": "4a3a192e-ba4f-481e-92c5-2b625bcb2a80",
   "metadata": {
    "ExecuteTime": {
     "end_time": "2024-08-08T09:48:16.424280Z",
     "start_time": "2024-08-08T09:48:16.420456Z"
    },
    "id": "4a3a192e-ba4f-481e-92c5-2b625bcb2a80"
   },
   "outputs": [
    {
     "name": "stdout",
     "output_type": "stream",
     "text": [
      "[[11  2  3]\n",
      " [ 4  5 16]\n",
      " [17  8  9]\n",
      " [10 21 12]]\n"
     ]
    }
   ],
   "source": [
    "# Mutate one element from each row of a using the indices in b\n",
    "a[np.arange(4), b] += 10\n",
    "print(a)"
   ]
  },
  {
   "cell_type": "markdown",
   "id": "e61369aa-296b-428c-84df-54a0e3a69e31",
   "metadata": {
    "id": "e61369aa-296b-428c-84df-54a0e3a69e31"
   },
   "source": [
    "Boolean array indexing: Boolean array indexing lets you pick out arbitrary elements of an array. Frequently this type of indexing is used to select the elements of an array that satisfy some condition. Here is an example:"
   ]
  },
  {
   "cell_type": "code",
   "execution_count": 97,
   "id": "92dd26a4-a2d2-4d0d-9d9a-6c9de8d4dbcd",
   "metadata": {
    "ExecuteTime": {
     "end_time": "2024-08-08T09:48:16.483535Z",
     "start_time": "2024-08-08T09:48:16.478646Z"
    },
    "id": "92dd26a4-a2d2-4d0d-9d9a-6c9de8d4dbcd"
   },
   "outputs": [
    {
     "name": "stdout",
     "output_type": "stream",
     "text": [
      "[[False False]\n",
      " [ True  True]\n",
      " [ True  True]]\n"
     ]
    }
   ],
   "source": [
    "import numpy as np\n",
    "\n",
    "a = np.array([[1,2], [3, 4], [5, 6]])\n",
    "\n",
    "bool_idx = (a > 2)  # Find the elements of a that are bigger than 2;\n",
    "                    # this returns a numpy array of Booleans of the same\n",
    "                    # shape as a, where each slot of bool_idx tells\n",
    "                    # whether that element of a is > 2.\n",
    "\n",
    "print(bool_idx)"
   ]
  },
  {
   "cell_type": "code",
   "execution_count": 98,
   "id": "52f31c05-406f-4c5d-ad25-212194c69cd0",
   "metadata": {
    "ExecuteTime": {
     "end_time": "2024-08-08T09:48:16.632293Z",
     "start_time": "2024-08-08T09:48:16.628437Z"
    },
    "id": "52f31c05-406f-4c5d-ad25-212194c69cd0"
   },
   "outputs": [
    {
     "name": "stdout",
     "output_type": "stream",
     "text": [
      "[3 4 5 6]\n",
      "[3 4 5 6]\n"
     ]
    }
   ],
   "source": [
    "# We use boolean array indexing to construct a rank 1 array\n",
    "# consisting of the elements of a corresponding to the True values\n",
    "# of bool_idx\n",
    "print(a[bool_idx])\n",
    "\n",
    "# We can do all of the above in a single concise statement:\n",
    "print(a[a > 2])"
   ]
  },
  {
   "cell_type": "markdown",
   "id": "ebb38476-c368-49d4-87cf-ac5c57c7eca8",
   "metadata": {
    "id": "ebb38476-c368-49d4-87cf-ac5c57c7eca8"
   },
   "source": [
    "When working with numpy arrays, it’s often helpful to get the *indices* (not only the values) of array elements that meet certain conditions. There are a few numpy functions that you’ll definitely want to remember:\n",
    "\n",
    "-   [`argmax`](https://numpy.org/doc/stable/reference/generated/numpy.argmax.html) (get index of maximum element in array)\n",
    "-   [`argmin`](https://numpy.org/doc/stable/reference/generated/numpy.argmin.html) (get index of minimum element in array)\n",
    "-   [`argsort`](https://numpy.org/doc/stable/reference/generated/numpy.argsort.html) (get sorted list of indices, by element value, in ascending order)\n",
    "-   [`where`](https://numpy.org/doc/stable/reference/generated/numpy.where.html) (get indices of elements that meet some condition)"
   ]
  },
  {
   "cell_type": "code",
   "execution_count": 99,
   "id": "c26e1c0c-8c12-4df9-99cd-9614e36b64ae",
   "metadata": {
    "ExecuteTime": {
     "end_time": "2024-08-08T09:48:16.724240Z",
     "start_time": "2024-08-08T09:48:16.718953Z"
    },
    "id": "c26e1c0c-8c12-4df9-99cd-9614e36b64ae"
   },
   "outputs": [
    {
     "name": "stdout",
     "output_type": "stream",
     "text": [
      "2\n",
      "3\n",
      "[3 0 4 5 6 1 2 7]\n",
      "[7 2 1 6 5 4 0 3]\n",
      "[1 2 6 7]\n",
      "[2 7]\n"
     ]
    }
   ],
   "source": [
    "a = np.array([1, 8, 9, -3, 2, 4, 7, 9])\n",
    "\n",
    "# Get the index of the maximum element in a\n",
    "print(np.argmax(a))\n",
    "\n",
    "# Get the index of the minimum element in a\n",
    "# (this array has two elements with the maximum value -\n",
    "# only one index is returned)\n",
    "print(np.argmin(a))\n",
    "\n",
    "# Get sorted list of indices\n",
    "print(np.argsort(a))\n",
    "\n",
    "# Get sorted list of indices in descending order\n",
    "# [::-1] is a special slicing index that returns the reversed list\n",
    "print(np.argsort(a)[::-1])\n",
    "\n",
    "# Get indices of elements that meet some condition\n",
    "# this returns a tuple, the list of indices is the first entry\n",
    "# so we use [0] to get it\n",
    "print(np.where(a > 5)[0])\n",
    "\n",
    "# Get indices of elements that meet some condition\n",
    "# this example shows how to get the index of *all* the max values\n",
    "print(np.where(a >= a[np.argmax(a)])[0])"
   ]
  },
  {
   "cell_type": "markdown",
   "id": "83e9e67d-6b7c-4b76-897a-ed48c3d578f9",
   "metadata": {
    "id": "83e9e67d-6b7c-4b76-897a-ed48c3d578f9"
   },
   "source": [
    "For brevity we have left out a lot of details about numpy array indexing; if you want to know more you should read the documentation."
   ]
  },
  {
   "cell_type": "markdown",
   "id": "7ab927d6-f7d6-4b6f-ad1d-60451d55b670",
   "metadata": {
    "id": "7ab927d6-f7d6-4b6f-ad1d-60451d55b670"
   },
   "source": [
    "### Datatypes"
   ]
  },
  {
   "cell_type": "markdown",
   "id": "3ccb9dea-1ee7-42e8-b5b9-a623fe7ab745",
   "metadata": {
    "id": "3ccb9dea-1ee7-42e8-b5b9-a623fe7ab745"
   },
   "source": [
    "Every numpy array is a grid of elements of the same type. Numpy provides a large set of numeric datatypes that you can use to construct arrays. Numpy tries to guess a datatype when you create an array, but functions that construct arrays usually also include an optional argument to explicitly specify the datatype. Here is an example:"
   ]
  },
  {
   "cell_type": "code",
   "execution_count": 100,
   "id": "2b021a07-6390-4216-931d-06bf28a996dc",
   "metadata": {
    "ExecuteTime": {
     "end_time": "2024-08-08T09:48:16.881902Z",
     "start_time": "2024-08-08T09:48:16.878763Z"
    },
    "id": "2b021a07-6390-4216-931d-06bf28a996dc"
   },
   "outputs": [
    {
     "name": "stdout",
     "output_type": "stream",
     "text": [
      "int64 float64 int64\n"
     ]
    }
   ],
   "source": [
    "x = np.array([1, 2])  # Let numpy choose the datatype\n",
    "y = np.array([1.0, 2.0])  # Let numpy choose the datatype\n",
    "z = np.array([1, 2], dtype=np.int64)  # Force a particular datatype\n",
    "\n",
    "print(x.dtype, y.dtype, z.dtype)"
   ]
  },
  {
   "cell_type": "markdown",
   "id": "b884c694-57a4-49d3-9df5-8a6898934831",
   "metadata": {
    "id": "b884c694-57a4-49d3-9df5-8a6898934831"
   },
   "source": [
    "You can read all about numpy datatypes in the [documentation](http://docs.scipy.org/doc/numpy/reference/arrays.dtypes.html)."
   ]
  },
  {
   "cell_type": "markdown",
   "id": "cb3c901b-b344-400d-9e0f-b2fa70e28e4d",
   "metadata": {
    "id": "cb3c901b-b344-400d-9e0f-b2fa70e28e4d"
   },
   "source": [
    "### Array math"
   ]
  },
  {
   "cell_type": "markdown",
   "id": "2fea02dd-c4f7-4bd4-8006-9a2cb0c7cef2",
   "metadata": {
    "id": "2fea02dd-c4f7-4bd4-8006-9a2cb0c7cef2"
   },
   "source": [
    "What makes working with `numpy` so powerful and convenient is that it comes with many *vectorized* math functions for computation over elements of an array. These functions are highly optimized and are *very* fast - much, much faster than using an explicit `for` loop.\n",
    "\n",
    "For example, let’s create a large array of random values and then sum it both ways. We’ll use a `%%time` *cell magic* to time them."
   ]
  },
  {
   "cell_type": "code",
   "execution_count": 101,
   "id": "92314cea-6001-4207-b40e-d0208a1597e2",
   "metadata": {
    "ExecuteTime": {
     "end_time": "2024-08-08T09:48:16.999383Z",
     "start_time": "2024-08-08T09:48:16.931173Z"
    },
    "id": "92314cea-6001-4207-b40e-d0208a1597e2"
   },
   "outputs": [],
   "source": [
    "a = np.random.random(10_000_000)"
   ]
  },
  {
   "cell_type": "code",
   "execution_count": 102,
   "id": "33a4e0ed-340e-436c-882a-df2224c8af21",
   "metadata": {
    "ExecuteTime": {
     "end_time": "2024-08-08T09:48:17.068369Z",
     "start_time": "2024-08-08T09:48:17.060946Z"
    },
    "id": "33a4e0ed-340e-436c-882a-df2224c8af21"
   },
   "outputs": [
    {
     "name": "stdout",
     "output_type": "stream",
     "text": [
      "CPU times: user 5.97 ms, sys: 183 μs, total: 6.15 ms\n",
      "Wall time: 5.06 ms\n"
     ]
    }
   ],
   "source": [
    "%%time\n",
    "x = np.sum(a)"
   ]
  },
  {
   "cell_type": "code",
   "execution_count": 103,
   "id": "7252032c-bc87-4124-bb9d-0d2fada3e226",
   "metadata": {
    "ExecuteTime": {
     "end_time": "2024-08-08T09:48:18.656600Z",
     "start_time": "2024-08-08T09:48:17.121621Z"
    },
    "id": "7252032c-bc87-4124-bb9d-0d2fada3e226"
   },
   "outputs": [
    {
     "name": "stdout",
     "output_type": "stream",
     "text": [
      "CPU times: user 1.53 s, sys: 3.4 ms, total: 1.53 s\n",
      "Wall time: 1.53 s\n"
     ]
    }
   ],
   "source": [
    "%%time\n",
    "x = 0\n",
    "for element in a:\n",
    "  x = x + element"
   ]
  },
  {
   "cell_type": "markdown",
   "id": "c75990d9-6999-40a2-a0e3-e8207110676a",
   "metadata": {
    "id": "c75990d9-6999-40a2-a0e3-e8207110676a"
   },
   "source": [
    "Look at the “Wall Time” in the output - note how much faster the vectorized version of the operation is! This type of fast computation is a major enabler of machine learning, which requires a *lot* of computation.\n",
    "\n",
    "Whenever possible, we will try to use these vectorized operations."
   ]
  },
  {
   "cell_type": "markdown",
   "id": "b2120332-98ac-4685-9488-054a21ec141f",
   "metadata": {
    "id": "b2120332-98ac-4685-9488-054a21ec141f"
   },
   "source": [
    "Some mathematic functions are available both as operator overloads and as functions in the numpy module."
   ]
  },
  {
   "cell_type": "markdown",
   "id": "604243cf-4411-44a3-9b25-789631caf959",
   "metadata": {
    "id": "604243cf-4411-44a3-9b25-789631caf959"
   },
   "source": [
    "For example, you can perform an elementwise sum on two arrays using either the + operator or the `add()` function.\n",
    "\n",
    "\n",
    "![](http://jalammar.github.io/images/numpy/numpy-arrays-adding-1.png)\n",
    "\n",
    "![](http://jalammar.github.io/images/numpy/numpy-matrix-arithmetic.png)"
   ]
  },
  {
   "cell_type": "code",
   "execution_count": 104,
   "id": "e6d49bb6-ebfe-4416-8a7f-c1f5b77e5e8a",
   "metadata": {
    "ExecuteTime": {
     "end_time": "2024-08-08T09:48:18.662500Z",
     "start_time": "2024-08-08T09:48:18.658006Z"
    },
    "id": "e6d49bb6-ebfe-4416-8a7f-c1f5b77e5e8a"
   },
   "outputs": [
    {
     "name": "stdout",
     "output_type": "stream",
     "text": [
      "[[ 6.  8.]\n",
      " [10. 12.]]\n",
      "[[ 6.  8.]\n",
      " [10. 12.]]\n"
     ]
    }
   ],
   "source": [
    "x = np.array([[1,2],[3,4]], dtype=np.float64)\n",
    "y = np.array([[5,6],[7,8]], dtype=np.float64)\n",
    "\n",
    "# Elementwise sum; both produce the array\n",
    "print(x + y)\n",
    "print(np.add(x, y))"
   ]
  },
  {
   "cell_type": "markdown",
   "id": "e0c163676d2ba42f",
   "metadata": {},
   "source": [
    "## array vs list II\n",
    "\n",
    "Adding two objects is a prime example of illustrating the difference and what to expect by adding:\n",
    "  - two arbitrary containers? -> We combine them, the operation returns a larger container containing the elemnts of both containers.\n",
    "  - two mathematical vectors? -> a new vector with the elements elementwise added (as done in math). The shape remains the same.\n",
    " \n",
    "Notably, some operations make no sense on one or the other type, like adding a number to a list or array, respectively: for an array, a vector plus a scalar is a well-defined operation, while adding an element to a container isn't and fails (try it out below)."
   ]
  },
  {
   "cell_type": "code",
   "execution_count": 105,
   "id": "e8cb1c947683a97f",
   "metadata": {
    "ExecuteTime": {
     "end_time": "2024-08-08T09:48:18.677510Z",
     "start_time": "2024-08-08T09:48:18.664014Z"
    }
   },
   "outputs": [
    {
     "name": "stdout",
     "output_type": "stream",
     "text": [
      "[1, 2, 1, 2]\n",
      "[2 4]\n"
     ]
    }
   ],
   "source": [
    "added_list = [1, 2] + [1, 2]\n",
    "added_array = np.array([1, 2]) + np.array([1, 2])\n",
    "\n",
    "print(added_list)\n",
    "print(added_array)"
   ]
  },
  {
   "cell_type": "code",
   "execution_count": 106,
   "id": "bd3d6d0c39f4482c",
   "metadata": {
    "ExecuteTime": {
     "end_time": "2024-08-08T09:48:18.686416Z",
     "start_time": "2024-08-08T09:48:18.679844Z"
    }
   },
   "outputs": [],
   "source": [
    "# add a number to a vector and to a list, what happens?\n",
    "\n"
   ]
  },
  {
   "cell_type": "markdown",
   "id": "66adf079-d0e8-4ceb-ae88-4e78447bb6d5",
   "metadata": {
    "id": "66adf079-d0e8-4ceb-ae88-4e78447bb6d5"
   },
   "source": [
    "And this works for other operations as well, not only addition:\n",
    "\n",
    "![](http://jalammar.github.io/images/numpy/numpy-array-subtract-multiply-divide.png)"
   ]
  },
  {
   "cell_type": "code",
   "execution_count": 107,
   "id": "83178bc8-6909-42ad-af86-1a7a76516a4c",
   "metadata": {
    "ExecuteTime": {
     "end_time": "2024-08-08T09:48:18.692340Z",
     "start_time": "2024-08-08T09:48:18.687928Z"
    },
    "id": "83178bc8-6909-42ad-af86-1a7a76516a4c"
   },
   "outputs": [
    {
     "name": "stdout",
     "output_type": "stream",
     "text": [
      "[[-4. -4.]\n",
      " [-4. -4.]]\n",
      "[[-4. -4.]\n",
      " [-4. -4.]]\n"
     ]
    }
   ],
   "source": [
    "# Elementwise difference; both produce the array\n",
    "print(x - y)\n",
    "print(np.subtract(x, y))"
   ]
  },
  {
   "cell_type": "code",
   "execution_count": 108,
   "id": "3bbca1af-53ab-44d7-a9df-e5a69463f715",
   "metadata": {
    "ExecuteTime": {
     "end_time": "2024-08-08T09:48:18.698797Z",
     "start_time": "2024-08-08T09:48:18.693793Z"
    },
    "id": "3bbca1af-53ab-44d7-a9df-e5a69463f715"
   },
   "outputs": [
    {
     "name": "stdout",
     "output_type": "stream",
     "text": [
      "[[ 5. 12.]\n",
      " [21. 32.]]\n",
      "[[ 5. 12.]\n",
      " [21. 32.]]\n"
     ]
    }
   ],
   "source": [
    "# Elementwise product; both produce the array\n",
    "print(x * y)\n",
    "print(np.multiply(x, y))"
   ]
  },
  {
   "cell_type": "code",
   "execution_count": 109,
   "id": "e98baa36-56e0-4fdc-b371-ebe02e600e0f",
   "metadata": {
    "ExecuteTime": {
     "end_time": "2024-08-08T09:48:18.705956Z",
     "start_time": "2024-08-08T09:48:18.700243Z"
    },
    "id": "e98baa36-56e0-4fdc-b371-ebe02e600e0f"
   },
   "outputs": [
    {
     "name": "stdout",
     "output_type": "stream",
     "text": [
      "[[0.2        0.33333333]\n",
      " [0.42857143 0.5       ]]\n",
      "[[0.2        0.33333333]\n",
      " [0.42857143 0.5       ]]\n"
     ]
    }
   ],
   "source": [
    "# Elementwise division; both produce the array\n",
    "# [[ 0.2         0.33333333]\n",
    "#  [ 0.42857143  0.5       ]]\n",
    "print(x / y)\n",
    "print(np.divide(x, y))"
   ]
  },
  {
   "cell_type": "code",
   "execution_count": 110,
   "id": "226ebb2f-a24c-4f22-ae1c-d4c5302882a8",
   "metadata": {
    "ExecuteTime": {
     "end_time": "2024-08-08T09:48:18.716054Z",
     "start_time": "2024-08-08T09:48:18.707419Z"
    },
    "id": "226ebb2f-a24c-4f22-ae1c-d4c5302882a8"
   },
   "outputs": [
    {
     "name": "stdout",
     "output_type": "stream",
     "text": [
      "[[1.         1.41421356]\n",
      " [1.73205081 2.        ]]\n"
     ]
    }
   ],
   "source": [
    "# Elementwise square root; produces the array\n",
    "# [[ 1.          1.41421356]\n",
    "#  [ 1.73205081  2.        ]]\n",
    "print(np.sqrt(x))"
   ]
  },
  {
   "cell_type": "markdown",
   "id": "d2125bff-5063-482e-97ac-f997665fe8a9",
   "metadata": {
    "id": "d2125bff-5063-482e-97ac-f997665fe8a9"
   },
   "source": [
    "Note that `*` is elementwise multiplication. For a matrix multiplication, we instead use the `@` operator (or `dot()` function) to compute inner products of vectors, to multiply a vector by a matrix, and to multiply matrices.\n",
    "\n",
    "![](http://jalammar.github.io/images/numpy/numpy-matrix-dot-product-1.png)"
   ]
  },
  {
   "cell_type": "code",
   "execution_count": 111,
   "id": "6e8eaf91-4f6a-4c82-b2a9-b4ab9c840554",
   "metadata": {
    "ExecuteTime": {
     "end_time": "2024-08-08T09:48:18.721668Z",
     "start_time": "2024-08-08T09:48:18.717394Z"
    },
    "id": "6e8eaf91-4f6a-4c82-b2a9-b4ab9c840554"
   },
   "outputs": [
    {
     "name": "stdout",
     "output_type": "stream",
     "text": [
      "219\n",
      "219\n"
     ]
    }
   ],
   "source": [
    "x = np.array([[1,2],[3,4]])\n",
    "y = np.array([[5,6],[7,8]])\n",
    "\n",
    "v = np.array([9,10])\n",
    "w = np.array([11, 12])\n",
    "\n",
    "# Inner product of vectors; both produce 219\n",
    "print(v @ w)\n",
    "print(np.dot(v, w))"
   ]
  },
  {
   "cell_type": "code",
   "execution_count": 112,
   "id": "ed5a07e9-5e8c-4e92-9db6-9e0e7daf8e27",
   "metadata": {
    "ExecuteTime": {
     "end_time": "2024-08-08T09:48:18.728089Z",
     "start_time": "2024-08-08T09:48:18.724586Z"
    },
    "id": "ed5a07e9-5e8c-4e92-9db6-9e0e7daf8e27"
   },
   "outputs": [
    {
     "name": "stdout",
     "output_type": "stream",
     "text": [
      "[29 67]\n",
      "[29 67]\n"
     ]
    }
   ],
   "source": [
    "# Matrix / vector product; both produce the rank 1 array [29 67]\n",
    "print(np.dot(x, v))\n",
    "print(x @ v)"
   ]
  },
  {
   "cell_type": "code",
   "execution_count": 113,
   "id": "e42300f0-be37-4c96-9d21-7c67cf06d370",
   "metadata": {
    "ExecuteTime": {
     "end_time": "2024-08-08T09:48:18.734449Z",
     "start_time": "2024-08-08T09:48:18.729174Z"
    },
    "id": "e42300f0-be37-4c96-9d21-7c67cf06d370"
   },
   "outputs": [
    {
     "name": "stdout",
     "output_type": "stream",
     "text": [
      "[[19 22]\n",
      " [43 50]]\n",
      "[[19 22]\n",
      " [43 50]]\n"
     ]
    }
   ],
   "source": [
    "# Matrix / matrix product; both produce the rank 2 array\n",
    "# [[19 22]\n",
    "#  [43 50]]\n",
    "print(np.dot(x, y))\n",
    "print(x @ y)"
   ]
  },
  {
   "cell_type": "markdown",
   "id": "df7ccfe0-587f-46e6-83c4-6a6cc38ff1ea",
   "metadata": {
    "id": "df7ccfe0-587f-46e6-83c4-6a6cc38ff1ea"
   },
   "source": [
    "Besides for the functions that overload operators, Numpy also provides many useful functions for performing computations on arrays, such as `min()`, `max()`, `sum()`, and others:\n",
    "\n",
    "![](http://jalammar.github.io/images/numpy/numpy-matrix-aggregation-1.png)"
   ]
  },
  {
   "cell_type": "code",
   "execution_count": 114,
   "id": "66adf5e5-773e-48fd-aff1-b42cec7a0491",
   "metadata": {
    "ExecuteTime": {
     "end_time": "2024-08-08T09:48:18.740424Z",
     "start_time": "2024-08-08T09:48:18.735918Z"
    },
    "id": "66adf5e5-773e-48fd-aff1-b42cec7a0491"
   },
   "outputs": [
    {
     "name": "stdout",
     "output_type": "stream",
     "text": [
      "6\n",
      "1\n",
      "21\n"
     ]
    }
   ],
   "source": [
    "x = np.array([[1, 2], [3, 4], [5, 6]])\n",
    "\n",
    "print(np.max(x))  # Compute max of all elements; prints \"6\"\n",
    "print(np.min(x))  # Compute min of all elements; prints \"1\"\n",
    "print(np.sum(x))  # Compute sum of all elements; prints \"21\""
   ]
  },
  {
   "cell_type": "markdown",
   "id": "96121e02-4803-40ec-a8be-5c054519754d",
   "metadata": {
    "id": "96121e02-4803-40ec-a8be-5c054519754d"
   },
   "source": [
    "Not only can we aggregate all the values in a matrix using these functions, but we can also aggregate across the rows or columns by using the `axis` parameter:\n",
    "\n",
    "![](http://jalammar.github.io/images/numpy/numpy-matrix-aggregation-4.png)"
   ]
  },
  {
   "cell_type": "code",
   "execution_count": 115,
   "id": "c5b0a1f4-4a9e-4d6f-aec0-21473253cda3",
   "metadata": {
    "ExecuteTime": {
     "end_time": "2024-08-08T09:48:18.747406Z",
     "start_time": "2024-08-08T09:48:18.741893Z"
    },
    "id": "c5b0a1f4-4a9e-4d6f-aec0-21473253cda3"
   },
   "outputs": [
    {
     "name": "stdout",
     "output_type": "stream",
     "text": [
      "[5 6]\n",
      "[2 5 6]\n"
     ]
    }
   ],
   "source": [
    "x = np.array([[1, 2], [5, 3], [4, 6]])\n",
    "\n",
    "print(np.max(x, axis=0))  # Compute max of each column; prints \"[5 6]\"\n",
    "print(np.max(x, axis=1))  # Compute max of each row; prints \"[2 5 6]\""
   ]
  },
  {
   "cell_type": "markdown",
   "id": "e9b3473b-9d78-49b4-b405-9dcf386b93e0",
   "metadata": {
    "id": "e9b3473b-9d78-49b4-b405-9dcf386b93e0"
   },
   "source": [
    "You can find the full list of mathematical functions provided by numpy in the [documentation](http://docs.scipy.org/doc/numpy/reference/routines.math.html)."
   ]
  },
  {
   "cell_type": "markdown",
   "id": "d39ad048-edd3-4c0c-9620-13a8ba6cbf01",
   "metadata": {
    "id": "d39ad048-edd3-4c0c-9620-13a8ba6cbf01"
   },
   "source": [
    "Apart from computing mathematical functions using arrays, we frequently need to reshape or otherwise manipulate data in arrays. The simplest example of this type of operation is transposing a matrix; to transpose a matrix, simply use the T attribute of an array object or the `transpose` function.\n",
    "\n",
    "![](http://jalammar.github.io/images/numpy/numpy-transpose.png)"
   ]
  },
  {
   "cell_type": "code",
   "execution_count": 116,
   "id": "d50bc55d-177e-4d6a-aea9-291c48620eba",
   "metadata": {
    "ExecuteTime": {
     "end_time": "2024-08-08T09:48:18.758121Z",
     "start_time": "2024-08-08T09:48:18.748873Z"
    },
    "id": "d50bc55d-177e-4d6a-aea9-291c48620eba"
   },
   "outputs": [
    {
     "name": "stdout",
     "output_type": "stream",
     "text": [
      "[[1 2]\n",
      " [3 4]\n",
      " [5 6]]\n",
      "transpose\n",
      " [[1 3 5]\n",
      " [2 4 6]]\n",
      "transpose\n",
      " [[1 3 5]\n",
      " [2 4 6]]\n"
     ]
    }
   ],
   "source": [
    "x = np.array([[1, 2], [3, 4], [5, 6]])\n",
    "\n",
    "print(x)\n",
    "print(\"transpose\\n\", x.T)\n",
    "print(\"transpose\\n\", np.transpose(x))"
   ]
  },
  {
   "cell_type": "code",
   "execution_count": 117,
   "id": "ddb52688-8f4d-4eb4-8249-c63a56b639a2",
   "metadata": {
    "ExecuteTime": {
     "end_time": "2024-08-08T09:48:18.774370Z",
     "start_time": "2024-08-08T09:48:18.769424Z"
    },
    "id": "ddb52688-8f4d-4eb4-8249-c63a56b639a2"
   },
   "outputs": [
    {
     "name": "stdout",
     "output_type": "stream",
     "text": [
      "[[1 2 3]]\n",
      "transpose\n",
      " [[1]\n",
      " [2]\n",
      " [3]]\n",
      "transpose\n",
      " [[1 3 5]\n",
      " [2 4 6]]\n"
     ]
    }
   ],
   "source": [
    "v = np.array([[1,2,3]])\n",
    "print(v)\n",
    "print(\"transpose\\n\", v.T)\n",
    "print(\"transpose\\n\", np.transpose(x))"
   ]
  },
  {
   "cell_type": "markdown",
   "id": "aed0f9ad-f114-42a5-aae1-09672bdffc97",
   "metadata": {
    "id": "aed0f9ad-f114-42a5-aae1-09672bdffc97"
   },
   "source": [
    "In more advanced use case, you may find yourself needing to change the dimensions of a certain matrix. This is often the case in machine learning applications where a certain model expects a certain shape for the inputs that is different from your dataset. numpy's `reshape()` method is useful in these cases.\n",
    "\n",
    "![](http://jalammar.github.io/images/numpy/numpy-reshape.png)"
   ]
  },
  {
   "cell_type": "markdown",
   "id": "59c09a49-bad1-4c70-a137-7c9a3c26d625",
   "metadata": {
    "id": "59c09a49-bad1-4c70-a137-7c9a3c26d625"
   },
   "source": [
    "A common task in this class will be to convert a 1D array to a 2D array, and vice versa. We can use `reshape()` for this."
   ]
  },
  {
   "cell_type": "markdown",
   "id": "3ecf3a91-68c3-4186-a7ec-583d08e685db",
   "metadata": {
    "id": "3ecf3a91-68c3-4186-a7ec-583d08e685db"
   },
   "source": [
    "For example, suppose we had this 2D array, but we need to pass it to a function that expects a 1D array."
   ]
  },
  {
   "cell_type": "code",
   "execution_count": 118,
   "id": "b1884a4d-c183-4c1a-b4aa-0e9e9925f284",
   "metadata": {
    "ExecuteTime": {
     "end_time": "2024-08-08T09:48:19.045722Z",
     "start_time": "2024-08-08T09:48:19.040781Z"
    },
    "id": "b1884a4d-c183-4c1a-b4aa-0e9e9925f284"
   },
   "outputs": [
    {
     "name": "stdout",
     "output_type": "stream",
     "text": [
      "[[1]\n",
      " [2]\n",
      " [3]]\n"
     ]
    },
    {
     "data": {
      "text/plain": [
       "(3, 1)"
      ]
     },
     "execution_count": 118,
     "metadata": {},
     "output_type": "execute_result"
    }
   ],
   "source": [
    "w = np.array([[1],[2],[3]])\n",
    "print(w)\n",
    "w.shape"
   ]
  },
  {
   "cell_type": "markdown",
   "id": "7bd067b9-1f56-4714-8baa-75f81a8b4d2c",
   "metadata": {
    "id": "7bd067b9-1f56-4714-8baa-75f81a8b4d2c"
   },
   "source": [
    "We can remove the “unnecessary” extra dimension with"
   ]
  },
  {
   "cell_type": "code",
   "execution_count": 119,
   "id": "31ac2e61-d3de-4b10-ab04-df7d879754b1",
   "metadata": {
    "ExecuteTime": {
     "end_time": "2024-08-08T09:48:19.512961Z",
     "start_time": "2024-08-08T09:48:19.508688Z"
    },
    "id": "31ac2e61-d3de-4b10-ab04-df7d879754b1"
   },
   "outputs": [
    {
     "name": "stdout",
     "output_type": "stream",
     "text": [
      "[1 2 3]\n"
     ]
    },
    {
     "data": {
      "text/plain": [
       "(3,)"
      ]
     },
     "execution_count": 119,
     "metadata": {},
     "output_type": "execute_result"
    }
   ],
   "source": [
    "y = w.reshape(-1,)\n",
    "print(y)\n",
    "y.shape"
   ]
  },
  {
   "cell_type": "markdown",
   "id": "3224804b-5a14-4607-a536-4b3d584ee815",
   "metadata": {
    "id": "3224804b-5a14-4607-a536-4b3d584ee815"
   },
   "source": [
    "Note that we can pass -1 as one dimension and numpy will infer the correct size based on our matrix size!\n",
    "\n",
    "There’s also a `squeeze()` function that removes *all* of the “unnecessary” dimensions (dimensions that have size 1) from an array:"
   ]
  },
  {
   "cell_type": "code",
   "execution_count": 120,
   "id": "9c4a3539-3c94-4ac1-bae5-ccf4837dcccb",
   "metadata": {
    "ExecuteTime": {
     "end_time": "2024-08-08T09:48:19.661348Z",
     "start_time": "2024-08-08T09:48:19.656429Z"
    },
    "id": "9c4a3539-3c94-4ac1-bae5-ccf4837dcccb"
   },
   "outputs": [
    {
     "name": "stdout",
     "output_type": "stream",
     "text": [
      "[1 2 3]\n"
     ]
    },
    {
     "data": {
      "text/plain": [
       "(3,)"
      ]
     },
     "execution_count": 120,
     "metadata": {},
     "output_type": "execute_result"
    }
   ],
   "source": [
    "z = w.squeeze()\n",
    "print(z)\n",
    "z.shape"
   ]
  },
  {
   "cell_type": "markdown",
   "id": "38a91793-4a23-44c9-babf-2a304434fefb",
   "metadata": {
    "id": "38a91793-4a23-44c9-babf-2a304434fefb"
   },
   "source": [
    "To go from a 1D to 2D array, we can just add in another dimension of size 1:"
   ]
  },
  {
   "cell_type": "code",
   "execution_count": 121,
   "id": "616aac7c-8dda-4239-bef8-95d6992ec41f",
   "metadata": {
    "ExecuteTime": {
     "end_time": "2024-08-08T09:48:19.794918Z",
     "start_time": "2024-08-08T09:48:19.790831Z"
    },
    "id": "616aac7c-8dda-4239-bef8-95d6992ec41f"
   },
   "outputs": [
    {
     "data": {
      "text/plain": [
       "array([[1],\n",
       "       [2],\n",
       "       [3]])"
      ]
     },
     "execution_count": 121,
     "metadata": {},
     "output_type": "execute_result"
    }
   ],
   "source": [
    "y.reshape((-1,1))"
   ]
  },
  {
   "cell_type": "markdown",
   "id": "2f732295-05f9-4b61-9f24-8efd6b41de8d",
   "metadata": {
    "id": "2f732295-05f9-4b61-9f24-8efd6b41de8d"
   },
   "source": [
    "### Broadcasting"
   ]
  },
  {
   "cell_type": "markdown",
   "id": "2a85d55c-e7e9-4552-b3af-4476d5ccbe86",
   "metadata": {
    "id": "2a85d55c-e7e9-4552-b3af-4476d5ccbe86"
   },
   "source": [
    "Broadcasting is a powerful mechanism that allows numpy to work with arrays of different shapes when performing arithmetic operations."
   ]
  },
  {
   "cell_type": "markdown",
   "id": "7c21ce51-aeab-4da1-8d7f-60507ae6c22d",
   "metadata": {
    "id": "7c21ce51-aeab-4da1-8d7f-60507ae6c22d"
   },
   "source": [
    "For example: basic linear algebra, we can only add (and perform similar element-wise operations) two matrics that have the *same* dimension. In numpy, if we want to add two matrics that have different dimensions, numpy will implicitly “extend” the dimension of one matrix to match the other so that we can perform the operation.\n",
    "\n",
    "So these operations will work, instead of returning an error:\n",
    "\n",
    "![](https://sebastianraschka.com/images/blog/2020/numpy-intro/broadcasting-1.png)\n",
    "\n",
    "![](https://sebastianraschka.com/images/blog/2020/numpy-intro/broadcasting-2.png)"
   ]
  },
  {
   "cell_type": "markdown",
   "id": "aa6e5252-c604-45b4-870a-4e7c6020ae99",
   "metadata": {
    "id": "aa6e5252-c604-45b4-870a-4e7c6020ae99"
   },
   "source": [
    "Broadcasting two arrays together follows these rules:\n",
    "\n",
    "**Rule 1**: If the two arrays differ in their number of dimensions, the shape of the one with fewer dimensions is padded with ones on its leading (left) side.\n",
    "\n",
    "For example, in the following cell, `a` will be implicitly extended to shape (1,3):"
   ]
  },
  {
   "cell_type": "code",
   "execution_count": 122,
   "id": "3e32bef1-4753-4893-89ca-4edc7288c766",
   "metadata": {
    "ExecuteTime": {
     "end_time": "2024-08-08T09:48:19.907758Z",
     "start_time": "2024-08-08T09:48:19.903915Z"
    },
    "id": "3e32bef1-4753-4893-89ca-4edc7288c766"
   },
   "outputs": [],
   "source": [
    "a = np.array([1,2,3])         # has shape (3,): one dimension\n",
    "b = np.array([[4], [5], [6]]) # has shape (3,1): two dimensions\n",
    "c = a + b                     # will have shape (3,3) (two dimensions)"
   ]
  },
  {
   "cell_type": "markdown",
   "id": "d148066a-992b-4b46-9944-0cce3ac61189",
   "metadata": {
    "id": "d148066a-992b-4b46-9944-0cce3ac61189"
   },
   "source": [
    "**Rule 2**: If the shape of the two arrays does not match in any dimension, the array with shape equal to 1 in that dimension is stretched to match the other shape.\n",
    "\n",
    "For example, in the following cell `a` will be implicitly extended to shape (3,2):"
   ]
  },
  {
   "cell_type": "code",
   "execution_count": 123,
   "id": "3ce72464-c36b-45e5-8de5-f24eb11c63fb",
   "metadata": {
    "ExecuteTime": {
     "end_time": "2024-08-08T09:48:20.103228Z",
     "start_time": "2024-08-08T09:48:20.099171Z"
    },
    "id": "3ce72464-c36b-45e5-8de5-f24eb11c63fb"
   },
   "outputs": [],
   "source": [
    "a = np.array([[1],[2],[3]])         # has shape (3,1)\n",
    "b = np.array([[4,5], [6,7], [8,9]]) # has shape (3,2)\n",
    "c = a + b                           # will have shape (3,2)"
   ]
  },
  {
   "cell_type": "markdown",
   "id": "3cc70138-0b7f-4a3c-a561-416491b24704",
   "metadata": {
    "id": "3cc70138-0b7f-4a3c-a561-416491b24704"
   },
   "source": [
    "**Rule 3**: If in any dimension the sizes disagree and neither is equal to 1, an error is raised:"
   ]
  },
  {
   "cell_type": "code",
   "execution_count": 124,
   "id": "c73f809a-5255-4958-b8af-f5c078838df5",
   "metadata": {
    "ExecuteTime": {
     "end_time": "2024-08-08T09:48:20.237830Z",
     "start_time": "2024-08-08T09:48:20.209623Z"
    },
    "id": "c73f809a-5255-4958-b8af-f5c078838df5"
   },
   "outputs": [
    {
     "ename": "ValueError",
     "evalue": "operands could not be broadcast together with shapes (4,1) (3,2) ",
     "output_type": "error",
     "traceback": [
      "\u001b[0;31m---------------------------------------------------------------------------\u001b[0m",
      "\u001b[0;31mValueError\u001b[0m                                Traceback (most recent call last)",
      "Cell \u001b[0;32mIn[124], line 3\u001b[0m\n\u001b[1;32m      1\u001b[0m a \u001b[38;5;241m=\u001b[39m np\u001b[38;5;241m.\u001b[39marray([[\u001b[38;5;241m1\u001b[39m],[\u001b[38;5;241m2\u001b[39m],[\u001b[38;5;241m3\u001b[39m],[\u001b[38;5;241m4\u001b[39m]])      \u001b[38;5;66;03m# has shape (4,1)\u001b[39;00m\n\u001b[1;32m      2\u001b[0m b \u001b[38;5;241m=\u001b[39m np\u001b[38;5;241m.\u001b[39marray([[\u001b[38;5;241m4\u001b[39m,\u001b[38;5;241m5\u001b[39m], [\u001b[38;5;241m6\u001b[39m,\u001b[38;5;241m7\u001b[39m], [\u001b[38;5;241m8\u001b[39m,\u001b[38;5;241m9\u001b[39m]])  \u001b[38;5;66;03m# has shape (3,2)\u001b[39;00m\n\u001b[0;32m----> 3\u001b[0m c \u001b[38;5;241m=\u001b[39m \u001b[43ma\u001b[49m\u001b[43m \u001b[49m\u001b[38;5;241;43m+\u001b[39;49m\u001b[43m \u001b[49m\u001b[43mb\u001b[49m                            \u001b[38;5;66;03m# ValueError: operands could not be broadcast\u001b[39;00m\n",
      "\u001b[0;31mValueError\u001b[0m: operands could not be broadcast together with shapes (4,1) (3,2) "
     ]
    }
   ],
   "source": [
    "a = np.array([[1],[2],[3],[4]])      # has shape (4,1)\n",
    "b = np.array([[4,5], [6,7], [8,9]])  # has shape (3,2)\n",
    "c = a + b                            # ValueError: operands could not be broadcast"
   ]
  },
  {
   "cell_type": "markdown",
   "id": "9fcb707a-3ec0-4d0c-a1d3-7410a58262e2",
   "metadata": {
    "id": "9fcb707a-3ec0-4d0c-a1d3-7410a58262e2"
   },
   "source": [
    "For more detail, you can read the explanation from the [documentation](http://docs.scipy.org/doc/numpy/user/basics.broadcasting.html)."
   ]
  },
  {
   "cell_type": "markdown",
   "id": "bf330eac-6a83-4878-bfaa-f11f300928ac",
   "metadata": {
    "id": "bf330eac-6a83-4878-bfaa-f11f300928ac"
   },
   "source": [
    "Functions that support broadcasting are known as universal functions. You can find the list of all universal functions in the [documentation](http://docs.scipy.org/doc/numpy/reference/ufuncs.html#available-ufuncs)."
   ]
  },
  {
   "cell_type": "markdown",
   "id": "497f6be0-fc5e-4d99-aec4-2435498c61ea",
   "metadata": {
    "id": "497f6be0-fc5e-4d99-aec4-2435498c61ea"
   },
   "source": [
    "Here are a few visual examples involving broadcasting.\n",
    "\n",
    "![](http://jalammar.github.io/images/numpy/numpy-array-broadcast.png)\n",
    "\n",
    "Note that these arrays are compatible in each dimension if they have either the same size in that dimension, or if one array has size 1 in that dimension.\n",
    "\n",
    "![](http://jalammar.github.io/images/numpy/numpy-matrix-broadcast.png)"
   ]
  },
  {
   "cell_type": "markdown",
   "id": "cbc5165b-fc47-4e14-8b58-3012adbad24e",
   "metadata": {
    "id": "cbc5165b-fc47-4e14-8b58-3012adbad24e"
   },
   "source": [
    "And here are some more practical applications:"
   ]
  },
  {
   "cell_type": "code",
   "execution_count": 125,
   "id": "e5636e31-b864-461e-b1bc-875549a857fa",
   "metadata": {
    "ExecuteTime": {
     "end_time": "2024-08-08T09:48:20.327732Z",
     "start_time": "2024-08-08T09:48:20.322679Z"
    },
    "id": "e5636e31-b864-461e-b1bc-875549a857fa"
   },
   "outputs": [
    {
     "name": "stdout",
     "output_type": "stream",
     "text": [
      "[[ 4  5]\n",
      " [ 8 10]\n",
      " [12 15]]\n"
     ]
    }
   ],
   "source": [
    "# Compute outer product of vectors\n",
    "v = np.array([1,2,3])  # v has shape (3,)\n",
    "w = np.array([4,5])    # w has shape (2,)\n",
    "# To compute an outer product, we first reshape v to be a column\n",
    "# vector of shape (3, 1); we can then broadcast it against w to yield\n",
    "# an output of shape (3, 2), which is the outer product of v and w:\n",
    "\n",
    "print(np.reshape(v, (3, 1)) * w)"
   ]
  },
  {
   "cell_type": "code",
   "execution_count": 126,
   "id": "5fe4f55d-ad71-4f12-93d9-52e82790b8f0",
   "metadata": {
    "ExecuteTime": {
     "end_time": "2024-08-08T09:48:20.386726Z",
     "start_time": "2024-08-08T09:48:20.382630Z"
    },
    "id": "5fe4f55d-ad71-4f12-93d9-52e82790b8f0"
   },
   "outputs": [
    {
     "name": "stdout",
     "output_type": "stream",
     "text": [
      "[[2 4 6]\n",
      " [5 7 9]]\n"
     ]
    }
   ],
   "source": [
    "# Add a vector to each row of a matrix\n",
    "x = np.array([[1,2,3], [4,5,6]])\n",
    "# x has shape (2, 3) and v has shape (3,) so they broadcast to (2, 3),\n",
    "# giving the following matrix:\n",
    "\n",
    "print(x + v)"
   ]
  },
  {
   "cell_type": "code",
   "execution_count": 127,
   "id": "5b703d95-f109-4828-968f-6b3f42dd281e",
   "metadata": {
    "ExecuteTime": {
     "end_time": "2024-08-08T09:48:20.697171Z",
     "start_time": "2024-08-08T09:48:20.694365Z"
    },
    "id": "5b703d95-f109-4828-968f-6b3f42dd281e"
   },
   "outputs": [
    {
     "name": "stdout",
     "output_type": "stream",
     "text": [
      "[[ 5  6  7]\n",
      " [ 9 10 11]]\n"
     ]
    }
   ],
   "source": [
    "# Add a vector to each column of a matrix\n",
    "# x has shape (2, 3) and w has shape (2,).\n",
    "# If we transpose x then it has shape (3, 2) and can be broadcast\n",
    "# against w to yield a result of shape (3, 2); transposing this result\n",
    "# yields the final result of shape (2, 3) which is the matrix x with\n",
    "# the vector w added to each column. Gives the following matrix:\n",
    "\n",
    "print((x.T + w).T)"
   ]
  },
  {
   "cell_type": "code",
   "execution_count": 128,
   "id": "7f9e6053-4439-47cd-9890-e1607fa398fe",
   "metadata": {
    "ExecuteTime": {
     "end_time": "2024-08-08T09:48:20.848929Z",
     "start_time": "2024-08-08T09:48:20.845151Z"
    },
    "id": "7f9e6053-4439-47cd-9890-e1607fa398fe"
   },
   "outputs": [
    {
     "name": "stdout",
     "output_type": "stream",
     "text": [
      "[[ 5  6  7]\n",
      " [ 9 10 11]]\n"
     ]
    }
   ],
   "source": [
    "# Another solution is to reshape w to be a row vector of shape (2, 1);\n",
    "# we can then broadcast it directly against x to produce the same\n",
    "# output.\n",
    "print(x + np.reshape(w, (2, 1)))"
   ]
  },
  {
   "cell_type": "code",
   "execution_count": 129,
   "id": "2d4ac7f1-4aa5-445a-8cad-3cafc8946055",
   "metadata": {
    "ExecuteTime": {
     "end_time": "2024-08-08T09:48:20.927384Z",
     "start_time": "2024-08-08T09:48:20.924393Z"
    },
    "id": "2d4ac7f1-4aa5-445a-8cad-3cafc8946055"
   },
   "outputs": [
    {
     "name": "stdout",
     "output_type": "stream",
     "text": [
      "[[ 2  4  6]\n",
      " [ 8 10 12]]\n"
     ]
    }
   ],
   "source": [
    "# Multiply a matrix by a constant:\n",
    "# x has shape (2, 3). Numpy treats scalars as arrays of shape ();\n",
    "# these can be broadcast together to shape (2, 3), producing the\n",
    "# following array:\n",
    "print(x * 2)"
   ]
  },
  {
   "cell_type": "markdown",
   "id": "a2b8e88d-856f-4bd2-b266-cc579edc202f",
   "metadata": {
    "id": "a2b8e88d-856f-4bd2-b266-cc579edc202f"
   },
   "source": [
    "Broadcasting typically makes your code more concise and faster, so you should strive to use it where possible."
   ]
  },
  {
   "cell_type": "markdown",
   "id": "ea213900-99db-4c10-9047-17abbb7b8772",
   "metadata": {
    "id": "ea213900-99db-4c10-9047-17abbb7b8772"
   },
   "source": [
    "This brief overview has touched on many of the important things that you need to know about numpy, but is far from complete. Check out the [numpy reference](http://docs.scipy.org/doc/numpy/reference/) to find out much more about numpy."
   ]
  },
  {
   "cell_type": "markdown",
   "id": "8c743bf9-95e7-4b21-8ef6-1d916db84104",
   "metadata": {
    "id": "8c743bf9-95e7-4b21-8ef6-1d916db84104"
   },
   "source": [
    "## Matplotlib"
   ]
  },
  {
   "cell_type": "markdown",
   "id": "8630b702-f57d-422f-8c40-7912f1465851",
   "metadata": {
    "id": "8630b702-f57d-422f-8c40-7912f1465851"
   },
   "source": [
    "Matplotlib is a plotting library. In this section we give a brief introduction to the `matplotlib.pyplot` module, which provides a plotting system similar to that of MATLAB.\n",
    "\n",
    "By convention, we typically import this module using the `plt` alias:"
   ]
  },
  {
   "cell_type": "code",
   "execution_count": 130,
   "id": "e49c3713-edd0-4c57-b3dd-a50357bfa2c4",
   "metadata": {
    "ExecuteTime": {
     "end_time": "2024-08-08T09:48:21.023889Z",
     "start_time": "2024-08-08T09:48:21.021177Z"
    },
    "id": "e49c3713-edd0-4c57-b3dd-a50357bfa2c4"
   },
   "outputs": [],
   "source": [
    "import matplotlib.pyplot as plt"
   ]
  },
  {
   "cell_type": "markdown",
   "id": "fdd662e3-04b1-4e56-8a9a-e15cec40b917",
   "metadata": {
    "id": "fdd662e3-04b1-4e56-8a9a-e15cec40b917"
   },
   "source": [
    "### Plotting"
   ]
  },
  {
   "cell_type": "markdown",
   "id": "4f966115-d35f-4981-9cf3-61985f2c7f02",
   "metadata": {
    "id": "4f966115-d35f-4981-9cf3-61985f2c7f02"
   },
   "source": [
    "The most important function in `matplotlib` is `plot`, which allows you to plot 2D data as a line plot. Here is a simple example:"
   ]
  },
  {
   "cell_type": "code",
   "execution_count": 131,
   "id": "7a6e0ff6-ae4b-4a50-a472-b1b5c0b3da23",
   "metadata": {
    "ExecuteTime": {
     "end_time": "2024-08-08T09:48:21.166382Z",
     "start_time": "2024-08-08T09:48:21.087167Z"
    },
    "id": "7a6e0ff6-ae4b-4a50-a472-b1b5c0b3da23"
   },
   "outputs": [
    {
     "data": {
      "image/png": "[encoded data removed]",
      "text/plain": [
       "<Figure size 640x480 with 1 Axes>"
      ]
     },
     "metadata": {},
     "output_type": "display_data"
    }
   ],
   "source": [
    "# Compute the x and y coordinates for points on a sine curve\n",
    "x = np.linspace(0, 3 * np.pi, 30)\n",
    "y = np.sin(x)\n",
    "\n",
    "# Plot the points using matplotlib\n",
    "plt.figure()  # create a new figure\n",
    "plt.plot(x, y)\n",
    "\n",
    "# Show the figure.\n",
    "plt.show()"
   ]
  },
  {
   "cell_type": "markdown",
   "id": "18e74092-d88b-4330-9272-deda49e09c56",
   "metadata": {
    "id": "18e74092-d88b-4330-9272-deda49e09c56"
   },
   "source": [
    "With just a little bit of extra work we can easily plot multiple lines at once, and add a title, legend, and axis labels:"
   ]
  },
  {
   "cell_type": "code",
   "execution_count": 132,
   "id": "3d63edc1-23b2-40cd-91c5-2c603be9801e",
   "metadata": {
    "ExecuteTime": {
     "end_time": "2024-08-08T09:48:21.344684Z",
     "start_time": "2024-08-08T09:48:21.227665Z"
    },
    "id": "3d63edc1-23b2-40cd-91c5-2c603be9801e"
   },
   "outputs": [
    {
     "data": {
      "image/png": "[encoded data removed]",
      "text/plain": [
       "<Figure size 640x480 with 1 Axes>"
      ]
     },
     "metadata": {},
     "output_type": "display_data"
    }
   ],
   "source": [
    "y_sin = np.sin(x)\n",
    "y_cos = np.cos(x)\n",
    "\n",
    "# Plot the points using matplotlib\n",
    "plt.figure()\n",
    "plt.plot(x, y_sin, label='Sine')\n",
    "plt.plot(x, y_cos, label='Cosine')\n",
    "plt.legend() # uses the label arguments given above\n",
    "\n",
    "plt.xlabel('x axis label')\n",
    "plt.ylabel('y axis label')\n",
    "plt.title('Sine and Cosine')\n",
    "\n",
    "# Show the figure.\n",
    "plt.show()"
   ]
  },
  {
   "cell_type": "markdown",
   "id": "d1aded07-7334-400d-bd72-22a2a60a65d8",
   "metadata": {
    "id": "d1aded07-7334-400d-bd72-22a2a60a65d8"
   },
   "source": [
    "Another useful, basic, plot is the `scatter` plot. Using `plt.savefig(filepath)`, we can save a figure."
   ]
  },
  {
   "cell_type": "code",
   "execution_count": 133,
   "id": "04fc2f05-e3b6-4146-afca-7b039af7d605",
   "metadata": {
    "ExecuteTime": {
     "end_time": "2024-08-08T09:48:21.470186Z",
     "start_time": "2024-08-08T09:48:21.346075Z"
    },
    "id": "04fc2f05-e3b6-4146-afca-7b039af7d605"
   },
   "outputs": [
    {
     "data": {
      "image/png": "[encoded data removed]",
      "text/plain": [
       "<Figure size 640x480 with 1 Axes>"
      ]
     },
     "metadata": {},
     "output_type": "display_data"
    }
   ],
   "source": [
    "x = np.random.rand(50)\n",
    "y = np.random.rand(50)\n",
    "colors = np.random.randint(0, 2, 50)\n",
    "\n",
    "plt.figure()\n",
    "plt.scatter(x, y, c=colors)\n",
    "\n",
    "plt.savefig(\"scatter_example.png\")\n",
    "\n",
    "plt.show()"
   ]
  },
  {
   "cell_type": "markdown",
   "id": "8ebcd0b4-ba3b-4287-8ce6-b7c57492415b",
   "metadata": {
    "id": "8ebcd0b4-ba3b-4287-8ce6-b7c57492415b"
   },
   "source": [
    "When there is no logical connection between adjacent points (for example: if the horizontal axis is a categorical variable without a logical order), then you should *not* connect them (as in a line plot), since this implies a relationship that does not exist! Instead, you would use a scatter plot."
   ]
  },
  {
   "cell_type": "markdown",
   "id": "ecde9d53-8ad0-4b55-abce-a23e15e1e1f9",
   "metadata": {
    "id": "ecde9d53-8ad0-4b55-abce-a23e15e1e1f9"
   },
   "source": [
    "### Subplots"
   ]
  },
  {
   "cell_type": "markdown",
   "id": "baf993cc-1f30-464e-a4ed-d93d57dadfa0",
   "metadata": {
    "id": "baf993cc-1f30-464e-a4ed-d93d57dadfa0"
   },
   "source": [
    "You can plot different things in the same figure using the `subplot` function. Here is an example:"
   ]
  },
  {
   "cell_type": "code",
   "execution_count": 134,
   "id": "e83de13a-ad4f-41a0-b708-cc34787a711b",
   "metadata": {
    "ExecuteTime": {
     "end_time": "2024-08-08T09:48:21.663887Z",
     "start_time": "2024-08-08T09:48:21.471710Z"
    },
    "id": "e83de13a-ad4f-41a0-b708-cc34787a711b"
   },
   "outputs": [
    {
     "data": {
      "image/png": "[encoded data removed]",
      "text/plain": [
       "<Figure size 640x480 with 2 Axes>"
      ]
     },
     "metadata": {},
     "output_type": "display_data"
    }
   ],
   "source": [
    "# Compute the x and y coordinates for points on sine and cosine curves\n",
    "x = np.arange(0, 3 * np.pi, 0.1)\n",
    "y_sin = np.sin(x)\n",
    "y_cos = np.cos(x)\n",
    "\n",
    "# Set up a subplot grid that has height 2 and width 1,\n",
    "# and set the first such subplot as active.\n",
    "plt.figure()\n",
    "plt.subplot(2, 1, 1)\n",
    "\n",
    "# Make the first plot\n",
    "plt.plot(x, y_sin)\n",
    "plt.title('Sine')\n",
    "\n",
    "# Set the second subplot as active, and make the second plot.\n",
    "plt.subplot(2, 1, 2)\n",
    "plt.plot(x, y_cos)\n",
    "plt.title('Cosine')\n",
    "\n",
    "# Adjust spacing between subplots\n",
    "plt.subplots_adjust(hspace = 0.4)\n",
    "\n",
    "# Show the figure.\n",
    "plt.show()"
   ]
  },
  {
   "cell_type": "markdown",
   "id": "791ff577-24b4-4e64-8075-c8492e3592dd",
   "metadata": {
    "id": "791ff577-24b4-4e64-8075-c8492e3592dd"
   },
   "source": [
    "You can read much more about the `subplot` function in the [documentation](http://matplotlib.org/api/pyplot_api.html#matplotlib.pyplot.subplot)."
   ]
  },
  {
   "cell_type": "markdown",
   "id": "34c8aa0c01e51678",
   "metadata": {},
   "source": [
    "Creating a histogram and plotting it can be done using the `hist` function:"
   ]
  },
  {
   "cell_type": "code",
   "execution_count": 135,
   "id": "3257ff949c40d5d6",
   "metadata": {
    "ExecuteTime": {
     "end_time": "2024-08-08T09:48:21.804954Z",
     "start_time": "2024-08-08T09:48:21.667315Z"
    }
   },
   "outputs": [
    {
     "data": {
      "image/png": "[encoded data removed]",
      "text/plain": [
       "<Figure size 640x480 with 1 Axes>"
      ]
     },
     "metadata": {},
     "output_type": "display_data"
    }
   ],
   "source": [
    "data = np.random.normal(loc=1.5, scale=3, size=10_000)\n",
    "\n",
    "plt.figure()\n",
    "plt.hist(data, bins=50, range=(-4, 10))  # bins and range are optional\n",
    "plt.title(\"Histogram\")\n",
    "\n",
    "plt.show()"
   ]
  },
  {
   "cell_type": "markdown",
   "id": "cbfae954-52ab-4efe-86f4-3553e0f799c9",
   "metadata": {
    "id": "cbfae954-52ab-4efe-86f4-3553e0f799c9"
   },
   "source": [
    "You can use the `imshow` function to display images from a file. Here is an example:"
   ]
  },
  {
   "cell_type": "code",
   "execution_count": 136,
   "id": "9f536a15-9dd3-4283-95ff-6a05309175d5",
   "metadata": {
    "ExecuteTime": {
     "end_time": "2024-08-08T09:48:21.988165Z",
     "start_time": "2024-08-08T09:48:21.806458Z"
    },
    "id": "9f536a15-9dd3-4283-95ff-6a05309175d5"
   },
   "outputs": [
    {
     "data": {
      "image/png": "[encoded data removed]",
      "text/plain": [
       "<Figure size 640x480 with 1 Axes>"
      ]
     },
     "metadata": {},
     "output_type": "display_data"
    }
   ],
   "source": [
    "from matplotlib.cbook import get_sample_data\n",
    "\n",
    "img_file = get_sample_data('grace_hopper.jpg')\n",
    "\n",
    "plt.figure()\n",
    "img = plt.imread(img_file)\n",
    "plt.imshow(img)\n",
    "plt.show()"
   ]
  },
  {
   "cell_type": "markdown",
   "id": "825162e7-0cb0-4ff1-b687-340b9332f8ef",
   "metadata": {
    "id": "825162e7-0cb0-4ff1-b687-340b9332f8ef"
   },
   "source": [
    "The `matplotlib` library is very flexible, and you can create virtually any plot and modify its appearance in any way you might think of. If you don’t like the way your plot looks, fix it! Use the [documentation](http://matplotlib.org/api/pyplot_api.html) to learn more."
   ]
  }
 ],
 "metadata": {
  "colab": {
   "provenance": []
  },
  "kernelspec": {
   "display_name": "Python 3 (ipykernel)",
   "language": "python",
   "name": "python3"
  },
  "language_info": {
   "codemirror_mode": {
    "name": "ipython",
    "version": 3
   },
   "file_extension": ".py",
   "mimetype": "text/x-python",
   "name": "python",
   "nbconvert_exporter": "python",
   "pygments_lexer": "ipython3",
   "version": "3.11.9"
  }
 },
 "nbformat": 4,
 "nbformat_minor": 5
}
