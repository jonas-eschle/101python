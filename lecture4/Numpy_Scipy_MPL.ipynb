{
 "cells": [
  {
   "cell_type": "markdown",
   "metadata": {},
   "source": [
    "## Introduction to NumPy and Matplotlib\n",
    "\n",
    "_Largely based on [Jupyter guide te scientific computing](https://bvanderlei.github.io/jupyter-guide-to-linear-algebra/intro.html)"
   ]
  },
  {
   "cell_type": "markdown",
   "metadata": {},
   "source": [
    "[Numpy](https://numpy.org/) is an essential Python package for carrying out calculations in scientific computing.  [Matplotlib](https://matplotlib.org/) is a extensive Python package for producing a wide variety of plots.  In this section we will demonstrate a few of the basic elements of these packages.  \n",
    "\n",
    "\n"
   ]
  },
  {
   "cell_type": "markdown",
   "metadata": {},
   "source": [
    "### NumPy\n",
    "\n",
    "Almost every calculation that we do in scientific computing will involve working with arrays of numbers.  An array can be thought of as a collection of numbers arranged into rows and columns to form a rectangle, such as the example below, which has 2 rows and 4 columns. Mathematically, it's a vector/matrix.\n",
    "\n",
    "\n",
    "$$\n",
    "\\begin{equation}\n",
    "\\left[ \\begin{array}{rrrr} 5 & -1 & 1 & 0 \\\\ 4 & 3 & 12 & -6 \\end{array}\\right]\n",
    "\\end{equation}\n",
    "$$\n",
    "\n",
    "Although it is possible to represent arrays using a basic Python objects called lists, these are two fundamentally different concepts! Python lists can hold arbitrary objects, have arbitrary depths and more. Arrays are vectors, mathematical objects, with a rectangular structure, a specific dtype and a fixed size.  NumPy has a powerful way to represent arrays, and has many built-in tools for processing them efficiently.  Just as with the math module, we have to first import NumPy before we can use it.  This time we will use the code $\\texttt{import numpy as np}$, which imports the module but gives it a different name, called an alias, that is more convenient to type. \n",
    "\n",
    "The easiest way to create the array above is to use the $\\texttt{array}$ function, and provide it a list of all the array entries in a specific format.  The row entries are separated by commas and enclosed in square brackets \\[\\], then all the rows listed together, separated by commas, and enclosed in another set of square brackets.   "
   ]
  },
  {
   "cell_type": "code",
   "execution_count": null,
   "metadata": {},
   "outputs": [],
   "source": [
    "import numpy as np\n",
    "\n",
    "## The object [[5, -1, 1, 0],[4, 3, 12, -6]], which gets passed into the array function is a Python list.\n",
    "## The object returned by the array function is a NumPy array object.\n",
    "\n",
    "A = np.array([[5, -1, 1, 0],[4, 3, 12, -6]])\n",
    "\n",
    "print(A)"
   ]
  },
  {
   "cell_type": "markdown",
   "metadata": {},
   "source": [
    "Another way to create the array we want is to first make an array that is one long row, and then use the $\\texttt{reshape}$ function.  This can be more convenient than typing the extra square brackets. "
   ]
  },
  {
   "cell_type": "code",
   "execution_count": null,
   "metadata": {},
   "outputs": [],
   "source": [
    "B = np.array([5, -1, 1, 0, 4, 3, 12, -6])\n",
    "print(\"This is B before reshaping.\")\n",
    "print(B)\n",
    "\n",
    "C = B.reshape((2,4))\n",
    "print(\"This is C, which is the entries of B formed into a new shape.\")\n",
    "print(C)"
   ]
  },
  {
   "cell_type": "markdown",
   "metadata": {},
   "source": [
    "We will often wish to make modifications to an array while keeping a copy of the original.  In this situation we can duplicate an existing array with the $\\texttt{copy}$ function."
   ]
  },
  {
   "cell_type": "code",
   "execution_count": null,
   "metadata": {},
   "outputs": [],
   "source": [
    "D = np.copy(A)\n",
    "print(D)"
   ]
  },
  {
   "cell_type": "markdown",
   "metadata": {},
   "source": [
    "In order to access individual entries in an array, we need to use a pair of indices to refer to the row and column of the entry we are accessing.  As with almost every other computing language, the count begins at zero in Python!  This means that the first row has index 0, the second has index 1 and so forth.  The same is true for the columns.  Beginning the count at zero is not difficult, but it does require an adjustment in thinking if one is new to programming.  "
   ]
  },
  {
   "cell_type": "code",
   "execution_count": null,
   "metadata": {},
   "outputs": [],
   "source": [
    "print(A[0,2])"
   ]
  },
  {
   "cell_type": "markdown",
   "metadata": {},
   "source": [
    "We can modify individual array values by assigning them new numbers."
   ]
  },
  {
   "cell_type": "code",
   "execution_count": null,
   "metadata": {},
   "outputs": [],
   "source": [
    "A[0,2] = 8\n",
    "print(A)"
   ]
  },
  {
   "cell_type": "markdown",
   "metadata": {},
   "source": [
    "Sometimes it is useful to create an array that contains mostly zeros.  In this case, we can create an array that contains all zeros, and then modify the few entries that we want to be nonzero."
   ]
  },
  {
   "cell_type": "code",
   "execution_count": null,
   "metadata": {},
   "outputs": [],
   "source": [
    "## Create a 4x4 array that is all zeros.\n",
    "D = np.zeros((4,4))\n",
    "## Set entries along the main diagonal to 2.\n",
    "for i in range(4):\n",
    "    D[i,i] = 2\n",
    "    \n",
    "print(D)"
   ]
  },
  {
   "cell_type": "markdown",
   "metadata": {},
   "source": [
    "Many of the functions included in NumPy relate to scientific computing in some way.  We will demonstrate more of these functions as we make our way through the corresponding scientific computing topics.\n",
    "\n",
    "#### Random module\n",
    "\n",
    "One way of testing code is to supply a lot of random input, and then check to see if the correct results are produced in each instance.  To produce the random inputs, we will make use of functions in the $\\texttt{random}$ module, which is contained within NumPy.  For example, we might use the $\\texttt{rand}$ function with no arguments to produce a random number between zero and one.     "
   ]
  },
  {
   "cell_type": "code",
   "execution_count": null,
   "metadata": {},
   "outputs": [],
   "source": [
    "r = np.random.rand()\n",
    "print(r)"
   ]
  },
  {
   "cell_type": "markdown",
   "metadata": {},
   "source": [
    "Each execution of the $\\texttt{rand}$ function yields a new random number.  Note that $\\texttt{rand}$ is a function contained in the $\\texttt{random}$ module, which is in turn contained in NumPy.  We therefore need do use the dot notation twice to access it.\n",
    "\n",
    "We can also generate a random array of numbers by supplying $\\texttt{rand}$ two arguments to specify the number of rows and columns in the array.\n",
    "  "
   ]
  },
  {
   "cell_type": "code",
   "execution_count": null,
   "metadata": {},
   "outputs": [],
   "source": [
    "X = np.random.rand(3,2)\n",
    "print(X)"
   ]
  },
  {
   "cell_type": "markdown",
   "metadata": {},
   "source": [
    "If we want to generate random integers, we can use the $\\texttt{randint}$ function.  This function requires at least one argument to specify an upper bound on the numbers produced.  The code below produces a random number from among the integers 0 to 19.  "
   ]
  },
  {
   "cell_type": "code",
   "execution_count": null,
   "metadata": {},
   "outputs": [],
   "source": [
    "print(np.random.randint(20))"
   ]
  },
  {
   "cell_type": "markdown",
   "metadata": {},
   "source": [
    "To generate a random array we have to specify the number of rows and columns using a *keyword argument* called $\\texttt{size}$.  The use of a *keyword argument* requires slightly different syntax as shown in the following example."
   ]
  },
  {
   "cell_type": "code",
   "execution_count": null,
   "metadata": {},
   "outputs": [],
   "source": [
    "Y = np.random.randint(10,size=(3,6))\n",
    "print(Y)"
   ]
  },
  {
   "cell_type": "markdown",
   "metadata": {},
   "source": [
    "The use of *keyword arguments* is quite common in Python functions.  The advantage of this feature is that the arguments do not need to be provided in a prespecified order."
   ]
  },
  {
   "cell_type": "code",
   "execution_count": null,
   "metadata": {},
   "outputs": [],
   "source": [
    "print(np.random.randint(size=(2,3),high=10,low=1))"
   ]
  },
  {
   "cell_type": "markdown",
   "metadata": {},
   "source": [
    "There is also a function in the $\\texttt{random}$ module called $\\texttt{choice}$, which allows us to generate a random value chosen from a specified collection.  This function takes a list of numbers as an argument and returns a value chosen at random from that list."
   ]
  },
  {
   "cell_type": "code",
   "execution_count": null,
   "metadata": {},
   "outputs": [],
   "source": [
    "x = np.random.choice([0,3,7,42])\n",
    "print(x)"
   ]
  },
  {
   "cell_type": "markdown",
   "metadata": {},
   "source": [
    "We can also use the $\\texttt{choice}$ function to generate an array of numbers consisting of values from the specified collection. This is done by again using the $\\texttt{size}$ keyword argument."
   ]
  },
  {
   "cell_type": "code",
   "execution_count": null,
   "metadata": {},
   "outputs": [],
   "source": [
    "X = np.random.choice([0,3,7,42], size = (2,3))\n",
    "print(X)"
   ]
  },
  {
   "cell_type": "markdown",
   "metadata": {},
   "source": [
    "### SciPy\n",
    "\n",
    "The SciPy library contains robust and efficient functions for a range of purposes related to scientific computing.  We will be making use of the $\\texttt{linalg}$ module, which contains many routines useful in scientific computing.  We note that some of the code in the Jupyter Guide to scientific computing duplicates functionality found in the $\\texttt{linalg}$ module, but this code is not meant to be a reliable alternative.  The code presented here is written for the purpose of explaining the theory of scientific computing and giving a simple illustration of what is required to carry out the typical calculations required.  \n",
    "\n",
    "We will wait to demonstrate the functions in the $\\texttt{linalg}$ module until after we have discussed enough scientific computing to understand their purpose.  The module will be imported with the alias $\\texttt{sla}$.  "
   ]
  },
  {
   "cell_type": "code",
   "execution_count": null,
   "metadata": {},
   "outputs": [],
   "source": [
    "import scipy.linalg as sla"
   ]
  },
  {
   "cell_type": "markdown",
   "metadata": {},
   "source": [
    "### Matplotlib\n",
    "\n",
    "Matplotlib provides a wide range of plotting functionality, and many options to make precise customizations to the figures produced. We only provide explanations for how to create the specific type of figures that appear in the Jupyter Guide to scientific computing, most of which follow the same essential pattern.  We will provide a few details of the necessary code, but will not attempt to describe the data structures in a rigorous way, or discuss the multitude of options that are available within the library.    \n",
    "\n",
    "#### Example 1\n",
    "\n",
    "In the first figure, we will make a simple plot of four points with $(x,y)$ coordinates.  The list of coordinates will be stored in a NumPy array."
   ]
  },
  {
   "cell_type": "code",
   "execution_count": null,
   "metadata": {},
   "outputs": [],
   "source": [
    "x = np.array([1, 2.5, 3, 5.8])\n",
    "y = np.array([2, 1.2, 1.1, 0.8])"
   ]
  },
  {
   "cell_type": "markdown",
   "metadata": {},
   "source": [
    "The next code cell contains a minimal set of instructions needed to produce a plot.  The comments in the cell indicate the purpose of each line."
   ]
  },
  {
   "cell_type": "code",
   "execution_count": null,
   "metadata": {},
   "outputs": [],
   "source": [
    "## Imports the module and assigns a short alias for convenience\n",
    "import matplotlib.pyplot as plt\n",
    "\n",
    "## Directs the graphical output to this notebook\n",
    "%matplotlib inline\n",
    "\n",
    "## The subplots method returns a Figure object and an Axes object\n",
    "fig, ax = plt.subplots()\n",
    "\n",
    "## Plots the data on the Axes object\n",
    "ax.plot(x,y);"
   ]
  },
  {
   "cell_type": "markdown",
   "metadata": {},
   "source": [
    "The $\\texttt{subplots}$ method creates two Matplotlib objects, the *Figure*, and the *Axes*.  The *Figure* is the fundamental object in Matplotlib.  The *Axes* object is contained within the *Figure*, and is the object we will interact with the most.  The $\\texttt{plot}$ method of the *Axes* object is the function that actually plots our set of coordinates on the *Axes*.  Note that we do not need a $\\texttt{print}$ command to view the results.  Instead, the first line of code, $\\texttt{% matplotlib inline}$, directs all graphical output to this notebook.\n",
    "\n",
    "The plot produced by this basic use of the $\\texttt{plot}$ method has connected the data point coordinates with lines.  This is the *default* functionality of this method.  It is common for Matplotlib methods (and indeed methods in many other Python libraries) to have a default functionality which is produced by supplying the minimum number of arguments, but also allow for additional arguments to be supplied which alter this default functionality.  In our example, we can supply the optional argument $\\texttt{'b+'}$ to the $\\texttt{plot}$ method to produce a plot with blue + symbols at the data coordinates instead of lines connecting them.   "
   ]
  },
  {
   "cell_type": "code",
   "execution_count": null,
   "metadata": {},
   "outputs": [],
   "source": [
    "fig, ax = plt.subplots()\n",
    "ax.plot(x,y,'b+');"
   ]
  },
  {
   "cell_type": "markdown",
   "metadata": {},
   "source": [
    "Another alternative when we are interested in plotting data points is the $\\texttt{scatter}$ method, for which we can use the same syntax."
   ]
  },
  {
   "cell_type": "code",
   "execution_count": null,
   "metadata": {},
   "outputs": [],
   "source": [
    "fig, ax = plt.subplots()\n",
    "ax.scatter(x,y);"
   ]
  },
  {
   "cell_type": "markdown",
   "metadata": {},
   "source": [
    "Next, we show how to configure some of the many options available in such a plot.  Remember that the plot is actually being constructed in an *Axes* object, so all the options that affect elements of the plot are methods of that object."
   ]
  },
  {
   "cell_type": "code",
   "execution_count": null,
   "metadata": {},
   "outputs": [],
   "source": [
    "fig, ax = plt.subplots()\n",
    "ax.plot(x,y,'rx');\n",
    "\n",
    "## These options set the upper and lower boundaries for x and y.\n",
    "ax.set_xlim(0,8);\n",
    "ax.set_ylim(0,4);\n",
    "\n",
    "## This option displays a grid to help visualize the coordinates\n",
    "ax.grid(True);\n",
    "\n",
    "## These options are used to set labels for the axes\n",
    "ax.set_xlabel('Time');\n",
    "ax.set_ylabel('Concentration');"
   ]
  },
  {
   "cell_type": "markdown",
   "metadata": {},
   "source": [
    "#### Example 2\n",
    "\n",
    "In the next example, the aim will be to plot the curve $y=0.5x^2$, for $x$ in the interval $[-2,4]$.  In order to make use of the same method, we will need to generate a set of points that lie on the curve for $x$ in the given interval.  The points that we specify will be connected by straight lines, so we will want to generate enough points to avoid the curve having a jagged appearance.  The NumPy method $\\texttt{linspace}$ provides an easy way to produce our points.  This method creates a NumPy array object with numbers spaced evenly over a specified interval. "
   ]
  },
  {
   "cell_type": "code",
   "execution_count": null,
   "metadata": {},
   "outputs": [],
   "source": [
    "## This call to linspace produces an array of 9 numbers evenly spaced on the interval [-2,4]\n",
    "x = np.linspace(-2,4,9)\n",
    "print(x)\n",
    "\n",
    "## We can create an array of the corresponding y values by using x in the algebraic expression\n",
    "y = 0.5*x**2\n",
    "print(y)"
   ]
  },
  {
   "cell_type": "markdown",
   "metadata": {},
   "source": [
    "For the plot, we will use a larger number of points in order to generate a curve that looks smooth.  We also use some other options to adjust the appearance of this plot, including configuration of the *ticks* along the $x$ and $y$ axes.  The *ticks* is a list of numbers that define the gridlines and numerical labels along the axes.  The $\\texttt{plot}$ method will provide default values of *ticks*, which can be changed by providing an array of new values.    "
   ]
  },
  {
   "cell_type": "code",
   "execution_count": null,
   "metadata": {},
   "outputs": [],
   "source": [
    "x = np.linspace(-2,4,100)\n",
    "y = 0.5*x**2\n",
    "\n",
    "fig, ax = plt.subplots()\n",
    "ax.plot(x,y);\n",
    "\n",
    "ax.set_xlim(-2,4);\n",
    "ax.set_ylim(0,8);\n",
    "\n",
    "## The grid option will accept the keyword argument ls, which specifies the linestyle\n",
    "ax.grid(True,ls='dotted');\n",
    "\n",
    "## This option adjusts the aspect ratio so that the x and y axes have the same length scale\n",
    "ax.set_aspect('equal');\n",
    "\n",
    "## The numbers and gridlines along the x and y axes appear at \n",
    "ax.set_xticks(np.linspace(-2,4,4));\n",
    "ax.set_yticks(np.linspace(0,8,5));\n"
   ]
  },
  {
   "cell_type": "code",
   "execution_count": null,
   "metadata": {},
   "outputs": [],
   "source": [
    "fig, ax = plt.subplots()\n",
    "ax.plot(x,y,'g',ls='dashed');\n",
    "\n",
    "ax.set_xlim(-3,5);\n",
    "ax.set_ylim(-1,9);\n",
    "\n",
    "## The grid option can be passed optional arguments that specify the linestyle (ls) used\n",
    "ax.grid(True,ls='dotted');\n",
    "\n",
    "## This option adjusts the aspect ratio so that the x and y axes have the same length scale\n",
    "ax.set_aspect('equal');\n",
    "\n",
    "## This option specifies the ticks with an array produced by linspace \n",
    "ax.set_xticks(np.linspace(-3,5,9));\n",
    "ax.set_yticks(np.linspace(-1,9,11));\n",
    "\n",
    "## This option draws lines x=0 and y=0 using keyword arguments color and linewidth\n",
    "ax.axvline(color='k',linewidth = 1);\n",
    "ax.axhline(color='k',linewidth = 1);"
   ]
  },
  {
   "cell_type": "markdown",
   "metadata": {},
   "source": [
    "Throughout the Jupyter Guide to scientific computing, we will often hide the code used to produce the graphics in order to keep the pages tidy for reading."
   ]
  },
  {
   "cell_type": "markdown",
   "metadata": {},
   "source": [
    "### Exercises\n",
    "\n",
    "- Using the $\\texttt{random}$  module, create a NumPy array with 2 rows and 3 columns that has entries that are random positive integers less than 10.  Print your array. Change the entry in the first row, second column to 8 and double the value in the second row, third column. Print the resulting array to check that your code has made the correct modifications."
   ]
  },
  {
   "cell_type": "code",
   "execution_count": null,
   "metadata": {},
   "outputs": [],
   "source": [
    "## Code solution here."
   ]
  },
  {
   "cell_type": "markdown",
   "metadata": {},
   "source": [
    "- Using the $\\texttt{random}$  module, create a NumPy array with 3 rows and 3 columns that has entries that are random positive integers less than 10.  Print your array. Now multiply each value in the matrix by 5 and then add 1 to all the enteries in the second row. After that, divide each diagonal entry by 2 and print the resulting array to check that your code has made the correct modifications."
   ]
  },
  {
   "cell_type": "code",
   "execution_count": null,
   "metadata": {},
   "outputs": [],
   "source": [
    "## Code solution here."
   ]
  },
  {
   "cell_type": "markdown",
   "metadata": {},
   "source": [
    "- Using the $\\texttt{random}$  module, create a NumPy array with 2 rows and 3 columns that has entries that are random integers greater than 5 and less than 13.    Write code that sets all even entries of the matrix to zero.  Print the array and check the results.  Run the code several times to check that it works for *different* random arrays. "
   ]
  },
  {
   "cell_type": "code",
   "execution_count": null,
   "metadata": {},
   "outputs": [],
   "source": [
    "## Code solution here."
   ]
  },
  {
   "cell_type": "markdown",
   "metadata": {},
   "source": [
    "- Create a NumPy array with 2 rows and 4 columns and assign it the name A.  Fill it with some values of your choice.  Create a new array $B$ that has the columns of $A$ as it's rows.  Print $A$ and $B$.  Below is an example of one such pair of arrays.\n",
    "\n",
    "$$\n",
    "\\begin{equation}\n",
    "A = \\left[ \\begin{array}{cccc} 1 & 0 & 5 & 1 \\\\ 3 & 2 & 0 & 8   \\end{array}\\right]\\hspace{1cm}\n",
    "B = \\left[ \\begin{array}{cc} 1 & 3 \\\\ 0 & 2 \\\\ 5 & 0  \\\\ 1 & 8  \\end{array}\\right]\\hspace{1cm}\n",
    "\\end{equation}\n",
    "$$"
   ]
  },
  {
   "cell_type": "code",
   "execution_count": null,
   "metadata": {},
   "outputs": [],
   "source": [
    "## Code solution here."
   ]
  },
  {
   "cell_type": "markdown",
   "metadata": {},
   "source": [
    "- Using matplotlib to plot the following points using the blue *cross* symbol: (2,1), (4,4), (8,16), (10,25).  Add a grid that consists of dotted lines as in Example 2. Set the limits of $x$-axis to 0 and 10.  Set the limits of the $y$-axis to 0 and 25.  The numbers and gridlines should appear at intervals of 2 units along the $x$-axis and at intervals of 5 units along the $y$-axis.  Label the $x$-axis as \"*Time*\" and the $y$-axis as \"*Distance*\"."
   ]
  },
  {
   "cell_type": "code",
   "execution_count": null,
   "metadata": {},
   "outputs": [],
   "source": [
    "## Code solution here."
   ]
  },
  {
   "cell_type": "markdown",
   "metadata": {},
   "source": [
    "- Use matplotlib to plot the curve $y= 4+x-0.5x^2$ where $x$ lies in the interval $[-1,5]$.  Follow Example 2 and use $\\texttt{linspace}$ to generate an array of coordinates of points on the curve. The curve should be dashed and shown in green color. The numbers and gridlines should appear at intervals of 1 unit along the $x$-axis and at intervals of 3 units along the $y$-axis. Draw the lines $x=0$, and $y=0$ with black colour and 1 unit width. Add a grid that consists of dashed lines."
   ]
  },
  {
   "cell_type": "code",
   "execution_count": null,
   "metadata": {},
   "outputs": [],
   "source": [
    "## Code solution here."
   ]
  },
  {
   "cell_type": "markdown",
   "metadata": {},
   "source": [
    "### References\n",
    "\n",
    "- Harris, C. R. et. al. [*Array Programming with NumPy*](https://www.nature.com/articles/s41586-020-2649-2)., Nature 585, 357-362, 2020.\n",
    "- [A Crash Course in Python for Scientists](https://nbviewer.jupyter.org/gist/rpmuller/5920182)\n"
   ]
  }
 ],
 "metadata": {
  "kernelspec": {
   "display_name": "Python 3 (ipykernel)",
   "language": "python",
   "name": "python3"
  },
  "language_info": {
   "codemirror_mode": {
    "name": "ipython",
    "version": 3
   },
   "file_extension": ".py",
   "mimetype": "text/x-python",
   "name": "python",
   "nbconvert_exporter": "python",
   "pygments_lexer": "ipython3",
   "version": "3.11.9"
  }
 },
 "nbformat": 4,
 "nbformat_minor": 4
}
